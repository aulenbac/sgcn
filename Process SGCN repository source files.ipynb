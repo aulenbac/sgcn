{
 "cells": [
  {
   "cell_type": "markdown",
   "metadata": {
    "deletable": true,
    "editable": true
   },
   "source": [
    "This notebook provides code that processes the [SGCN/SWAP repository in ScienceBase](https://www.sciencebase.gov/catalog/item/56d720ece4b015c306f442d5) into the SGCN database in the GC2 instance we are experimenting with. It works through all of the items in the repo, grabs the source data file, checks the source data file record count against the current database, wipes the current database for that state/year if there's a problem, inserts all records from the source file, and verifies that the new record count matches.\n",
    "\n",
    "### Updates (5/30/2017)\n",
    "* I fixed a dumb problem where \"taxonomy category\" was not getting picked up and processed as \"taxonomic_group\".\n",
    "* I added in a process to check for a list of states to reprocess explicitly in addition to those whose record count does not match source data. This enabled me to clean up an issue where some of the states didn't get their taxonomic group processed properly.\n",
    "* I changed the method of detecting the file to operate on and set it up to look first for an update file. If no processable file is found, the script breaks out of the ScienceBase source item and moves on to the next one.\n",
    "\n",
    "I use jupyter nbconvert to output this notebook to a python script and run it in its own environment to fully process the repository."
   ]
  },
  {
   "cell_type": "code",
   "execution_count": 1,
   "metadata": {
    "collapsed": false,
    "deletable": true,
    "editable": true
   },
   "outputs": [],
   "source": [
    "import requests,io\n",
    "from IPython.display import display\n",
    "import pandas as pd\n",
    "from datetime import datetime\n",
    "\n",
    "from bis import bis\n",
    "from bis import sgcn\n",
    "from bis2 import gc2"
   ]
  },
  {
   "cell_type": "markdown",
   "metadata": {
    "deletable": true,
    "editable": true
   },
   "source": [
    "### Set parameters for the process being run\n",
    "\n",
    "A number of parameters are needed for the particular process being run through this script. We build a local dictionary to reference, mostly from functions in the BIS-specific modules."
   ]
  },
  {
   "cell_type": "code",
   "execution_count": 7,
   "metadata": {
    "collapsed": false,
    "deletable": true,
    "editable": true
   },
   "outputs": [],
   "source": [
    "thisRun = {}\n",
    "thisRun[\"instance\"] = \"DataDistillery\"\n",
    "thisRun[\"db\"] = \"BCB\"\n",
    "thisRun[\"baseURL\"] = gc2.sqlAPI(thisRun[\"instance\"],thisRun[\"db\"])\n",
    "thisRun[\"extraCriteria\"] = \"&q=Alabama\"\n",
    "thisRun[\"reprocessList\"] = []\n",
    "thisRun[\"numberItemsProcessed\"] = 0\n",
    "thisRun[\"numberRecordsInserted\"] = 0\n",
    "thisRun[\"totalRecordsInFiles\"] = 0\n",
    "thisRun[\"commitItems\"] = False"
   ]
  },
  {
   "cell_type": "markdown",
   "metadata": {
    "deletable": true,
    "editable": true
   },
   "source": [
    "### Get data for processing\n",
    "\n",
    "The following section runs a query against ScienceBase for all of the items in the SWAP (SGCN) collection. We grab files, tags, and dates because we need to work against all three of those parts of the item structure.\n",
    "\n",
    "* Tags - gives us the state name that supplied the list\n",
    "* Dates - gives us the year of the SGCN report via the \"Collected\" date\n",
    "* Files - gives us the file URL to access for processing (either an update or the original file)\n",
    "\n",
    "Note: This process might need to change if we end up with more than 100 items in the source repository. It might also change when we get to the point of submitting data along the DataDistillery messaging system."
   ]
  },
  {
   "cell_type": "code",
   "execution_count": 8,
   "metadata": {
    "collapsed": false,
    "deletable": true,
    "editable": true,
    "scrolled": true
   },
   "outputs": [],
   "source": [
    "# Query ScienceBase for all SGCN source items\n",
    "sbQ = \"https://www.sciencebase.gov/catalog/items?parentId=56d720ece4b015c306f442d5&format=json&fields=files,tags,dates&max=100&sort=lastUpdated&order=desc\"+thisRun[\"extraCriteria\"]\n",
    "sbR = requests.get(sbQ).json()"
   ]
  },
  {
   "cell_type": "markdown",
   "metadata": {
    "deletable": true,
    "editable": true
   },
   "source": [
    "### Run the ScienceBase items through the process\n",
    "\n",
    "This section uses a number of functions from the tir and sgcn modules to process each item returned in the ScienceBase query. There is probably some other stuff here that could be broken out into more generalized functions."
   ]
  },
  {
   "cell_type": "code",
   "execution_count": 9,
   "metadata": {
    "collapsed": false,
    "deletable": true,
    "editable": true,
    "scrolled": true
   },
   "outputs": [
    {
     "data": {
      "text/plain": [
       "{'conditionsMet': [],\n",
       " 'lastDate': datetime.datetime(2017, 7, 7, 0, 0),\n",
       " 'processFileUploaded': datetime.datetime(2017, 7, 3, 0, 0),\n",
       " 'sgcn_state': 'Alabama',\n",
       " 'sgcn_year': '2015',\n",
       " 'sourceFileName': 'Alabama_2015.tsv',\n",
       " 'sourceFileURL': 'https://www.sciencebase.gov/catalog/file/get/595a96d4e4b0d1f9f0528531?f=__disk__23%2F10%2F95%2F231095576e371c4402906c00068a0e4ccc40c841',\n",
       " 'sourceRecordCount': 367,\n",
       " 'sourceid': 'https://www.sciencebase.gov/catalog/item/595a96d4e4b0d1f9f0528531',\n",
       " 'startingRecordCount': 367,\n",
       " 'stateYear': 'Alabama/2015'}"
      ]
     },
     "metadata": {},
     "output_type": "display_data"
    },
    {
     "data": {
      "text/plain": [
       "{'conditionsMet': [],\n",
       " 'lastDate': datetime.datetime(2017, 6, 15, 0, 0),\n",
       " 'processFileUploaded': datetime.datetime(2016, 7, 14, 0, 0),\n",
       " 'sgcn_state': 'Alabama',\n",
       " 'sgcn_year': '2005',\n",
       " 'sourceFileName': 'ALSGCN_Species_Original_List.txt',\n",
       " 'sourceFileURL': 'https://www.sciencebase.gov/catalog/file/get/5787c9c6e4b0d27deb3754a6?f=__disk__ae%2Fc3%2Ff6%2Faec3f6aff7a9913838126bc59a4f1f1f56333df7',\n",
       " 'sourceRecordCount': 305,\n",
       " 'sourceid': 'https://www.sciencebase.gov/catalog/item/5787c9c6e4b0d27deb3754a6',\n",
       " 'startingRecordCount': 305,\n",
       " 'stateYear': 'Alabama/2005'}"
      ]
     },
     "metadata": {},
     "output_type": "display_data"
    },
    {
     "data": {
      "text/plain": [
       "{'commitItems': False,\n",
       " 'db': 'BCB',\n",
       " 'extraCriteria': '&q=Alabama',\n",
       " 'instance': 'DataDistillery',\n",
       " 'numberItemsProcessed': 0,\n",
       " 'numberRecordsInserted': 0,\n",
       " 'reprocessList': [],\n",
       " 'totalRecordsInFiles': 672}"
      ]
     },
     "metadata": {},
     "output_type": "display_data"
    }
   ],
   "source": [
    "# Loop through the repository items and sync data to SGCN database\n",
    "for item in sbR[\"items\"]:\n",
    "    # Create an iterative structure to contain processed attributes for a given state and year\n",
    "    thisItem = {}\n",
    "    \n",
    "    # Set the source id as the ScienceBase Item URI/URL to reference from all final records\n",
    "    thisItem[\"sourceid\"] = item[\"link\"][\"url\"]\n",
    "    \n",
    "    # Extract the state name from the place tag\n",
    "    # NOTE: This is brittle and needs more work. An item could have many tags, and I just shortcutted to this point based on how Abby has managed these items so far.\n",
    "    try:\n",
    "        thisItem[\"sgcn_state\"] = item['tags'][0]['name']\n",
    "    except:\n",
    "        display (thisItem)\n",
    "        break\n",
    "    \n",
    "    # Extract the year for this item from the dates collection based on the \"Collected\" date type\n",
    "    # Break after we find the date collected that we want to use\n",
    "    for date in item[\"dates\"]:\n",
    "        if date[\"type\"] == \"Collected\":\n",
    "            thisItem[\"sgcn_year\"] = date[\"dateString\"]\n",
    "            break\n",
    "    \n",
    "    # Stop this item if we did not get a date\n",
    "    if \"sgcn_year\" not in list(thisItem.keys()):\n",
    "        break\n",
    "    else:\n",
    "        thisItem[\"stateYear\"] = thisItem[\"sgcn_state\"]+\"/\"+str(thisItem[\"sgcn_year\"])\n",
    "    \n",
    "    # Retrieve the current record count and the last inserted date in the SGCN database for the state and year\n",
    "    thisItem[\"startingRecordCount\"] = sgcn.getCurrentRecordCount(thisRun[\"baseURL\"],thisItem[\"sgcn_state\"],thisItem[\"sgcn_year\"])\n",
    "    thisItem[\"lastDate\"]  = datetime.strptime(sgcn.getDateInserted(thisRun[\"baseURL\"],thisItem[\"sgcn_state\"],thisItem[\"sgcn_year\"]), \"%Y-%m-%d\")\n",
    "\n",
    "    # Extract the file we need to process from the files structure\n",
    "    # First look for an update file and process that one. Otherwise get the original file.\n",
    "    processFile = next((file for file in item[\"files\"] if file[\"title\"] == \"Process File\"), None)\n",
    "\n",
    "    if processFile is not None:\n",
    "        thisItem[\"sourceFileName\"] = processFile[\"name\"]\n",
    "        thisItem[\"sourceFileURL\"] = processFile[\"url\"]\n",
    "        thisItem[\"processFileUploaded\"] = datetime.strptime(processFile[\"dateUploaded\"].split(\"T\")[0], \"%Y-%m-%d\")\n",
    "    else:\n",
    "        print (\"Problem getting file prepared: \"+thisItem[\"sourceid\"])\n",
    "        break   \n",
    "\n",
    "    # Retrieve the file into a dataframe for processing\n",
    "    # The read_table method with explicit tab separator seems to be pretty reliable and robust directly from ScienceBase file URLs, but this may have to be reexamined in future if it fails\n",
    "    stateData = pd.read_table(thisItem[\"sourceFileURL\"],sep=\"\\t\")\n",
    "    thisItem[\"sourceRecordCount\"] = len(stateData.index)\n",
    "    thisRun[\"totalRecordsInFiles\"] = thisRun[\"totalRecordsInFiles\"] + thisItem[\"sourceRecordCount\"]\n",
    "    \n",
    "    # Determine if we should run this item's file through\n",
    "    # Check 1: Process File is newer than the last time the item was processed\n",
    "    # Check 2: Record count in the integrated database does not match the record count in the file\n",
    "    # Check 3: State and year for this item are in the explicit reprocessList\n",
    "    thisItem[\"conditionsMet\"] = []\n",
    "    if thisItem[\"processFileUploaded\"] > thisItem[\"lastDate\"]:\n",
    "        thisItem[\"conditionsMet\"].append(\"Newer File in Repository\")\n",
    "    \n",
    "    if thisItem[\"startingRecordCount\"] != thisItem[\"sourceRecordCount\"]:\n",
    "        thisItem[\"conditionsMet\"].append(\"Record Number in Database Does Not Match Record Number in Source File\")\n",
    "    \n",
    "    if thisItem[\"stateYear\"] in thisRun[\"reprocessList\"]:\n",
    "        thisItem[\"conditionsMet\"].append(thisItem[\"stateYear\"]+\" in Reprocess List\")\n",
    "    display (thisItem)\n",
    "    if len(thisItem[\"conditionsMet\"]) > 0:\n",
    "        thisItem[\"actionLog\"] = []\n",
    "        \n",
    "        # Clear out the database for reprocessing\n",
    "        thisItem[\"actionLog\"].append((sgcn.clearStateYear(thisRun[\"baseURL\"],thisItem[\"sgcn_state\"],thisItem[\"sgcn_year\"])))\n",
    "        thisItem[\"actionLog\"].append(\"Cleared data for: \"+thisItem[\"stateYear\"])\n",
    "        \n",
    "        # Set column names to lower case and strip white space to deal with lingering pesky human problems\n",
    "        stateData.columns = map(str.lower, stateData.columns)\n",
    "#        stateData.columns = map(str.split, stateData.columns)\n",
    "        \n",
    "        # Create a list of duplicate index values in the Scientific Names so that we keep everything but make them all unique\n",
    "        scientificNames = stateData[\"scientific name\"]\n",
    "        duplicateNamesList = stateData[scientificNames.isin(scientificNames[scientificNames.duplicated()])].index.tolist()\n",
    "        duplicateCount = 0\n",
    "        \n",
    "        thisRecord = {}\n",
    "    \n",
    "        # Loop the dataframe, fix text values, and load to SGCN database\n",
    "        # NaN values from the dataframe are nulls, show up as float type, and need to get set to a blank string\n",
    "        for index, row in stateData.iterrows():\n",
    "            if type(row['scientific name']) is float:\n",
    "                thisRecord[\"scientificname_submitted\"] = \"\"\n",
    "            else:\n",
    "                thisRecord[\"scientificname_submitted\"] = row[\"scientific name\"]\n",
    "\n",
    "            if index in duplicateNamesList:\n",
    "                duplicateCount = duplicateCount + 1\n",
    "                if thisRecord[\"scientificname_submitted\"] == \"\":\n",
    "                    thisRecord[\"scientificname_submitted\"] = thisRecord[\"sgcn_state\"]+\" unnamed species \"+str(duplicateCount)\n",
    "                else:\n",
    "                    thisRecord[\"scientificname_submitted\"] = thisRecord[\"scientificname_submitted\"]+\" \"+str(duplicateCount)\n",
    "            \n",
    "            # Do basic cleaning on the name string in order to get it into the database\n",
    "            thisRecord[\"scientificname_submitted\"] = bis.stringCleaning(thisRecord[\"scientificname_submitted\"])\n",
    "\n",
    "            if type(row['common name']) is float:\n",
    "                thisRecord[\"commonname_submitted\"] = \"\"\n",
    "            else:\n",
    "                thisRecord[\"commonname_submitted\"] = bis.stringCleaning(row['common name'])\n",
    "\n",
    "            thisRecord[\"taxonomicgroup_submitted\"] = \"\"\n",
    "            if 'taxonomy group' in stateData.columns:\n",
    "                thisRecord[\"taxonomicgroup_submitted\"] = bis.stringCleaning(row['taxonomy group'])\n",
    "            elif 'taxonomic category' in stateData.columns:\n",
    "                thisRecord[\"taxonomicgroup_submitted\"] = bis.stringCleaning(row['taxonomic category'])\n",
    "\n",
    "            thisRecord[\"firstyear\"] = False\n",
    "            if '2005 swap' in stateData.columns:\n",
    "                if row['2005 swap'] in [\"N\",\"n\",\"No\",\"no\"]:\n",
    "                    thisRecord[\"firstyear\"] = True\n",
    "            \n",
    "            # Add in repository item metadata\n",
    "            thisRecord[\"sourceid\"] = thisItem[\"sourceid\"]\n",
    "            thisRecord[\"sourcefilename\"] = thisItem[\"sourceFileName\"]\n",
    "            thisRecord[\"sourcefileurl\"] = thisItem[\"sourceFileURL\"]\n",
    "            thisRecord[\"sgcn_state\"] = thisItem[\"sgcn_state\"]\n",
    "            thisRecord[\"sgcn_year\"] = thisItem[\"sgcn_year\"]\n",
    "            \n",
    "            # Insert the record\n",
    "            print (sgcn.insertSGCNData(thisRun[\"baseURL\"],thisRecord))\n",
    "            thisRun[\"numberRecordsInserted\"] = thisRun[\"numberRecordsInserted\"] + 1\n",
    "        \n",
    "        # Check total record count after inserting new data to make sure the numbers line up\n",
    "        thisItem[\"finalRecordCount\"] = sgcn.getCurrentRecordCount(thisRun[\"baseURL\"],thisItem[\"sgcn_state\"],thisItem[\"sgcn_year\"])\n",
    "        if thisItem[\"sourceRecordCount\"] != thisItem[\"finalRecordCount\"]:\n",
    "            print (\"Something went wrong with \"+thisItem[\"stateYear\"],thisItem[\"sourceid\"])\n",
    "        else:\n",
    "            display (thisItem)\n",
    "        \n",
    "        thisRun[\"numberItemsProcessed\"] = thisRun[\"numberItemsProcessed\"] + 1\n",
    "\n",
    "thisRun.pop(\"baseURL\")\n",
    "display (thisRun)"
   ]
  },
  {
   "cell_type": "code",
   "execution_count": null,
   "metadata": {
    "collapsed": true,
    "deletable": true,
    "editable": true
   },
   "outputs": [],
   "source": []
  }
 ],
 "metadata": {
  "kernelspec": {
   "display_name": "Python 3",
   "language": "python",
   "name": "python3"
  },
  "language_info": {
   "codemirror_mode": {
    "name": "ipython",
    "version": 3
   },
   "file_extension": ".py",
   "mimetype": "text/x-python",
   "name": "python",
   "nbconvert_exporter": "python",
   "pygments_lexer": "ipython3",
   "version": "3.5.3"
  }
 },
 "nbformat": 4,
 "nbformat_minor": 0
}
