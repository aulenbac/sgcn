{
 "cells": [
  {
   "cell_type": "code",
   "execution_count": 1,
   "metadata": {
    "collapsed": true,
    "deletable": true,
    "editable": true
   },
   "outputs": [],
   "source": [
    "import requests\n",
    "from IPython.display import display\n",
    "from bis2 import gc2"
   ]
  },
  {
   "cell_type": "code",
   "execution_count": 80,
   "metadata": {
    "collapsed": false,
    "deletable": true,
    "editable": true
   },
   "outputs": [],
   "source": [
    "import csv\n",
    "\n",
    "rAll = requests.get(gc2.sqlAPI(\"DataDistillery\",\"BCB\")+\"&q=SELECT * FROM sgcn.sgcn WHERE commonname_submitted NOT LIKE '%�%' AND scientificname_submitted NOT LIKE '%�%' ORDER BY sgcn_state, sgcn_year\").json()\n",
    "\n",
    "keys = rAll[\"features\"][0][\"properties\"].keys()\n",
    "with open('sgcn.csv', 'w') as output_file:\n",
    "    dict_writer = csv.DictWriter(output_file, keys)\n",
    "    dict_writer.writeheader()\n",
    "    for feature in rAll[\"features\"]:\n",
    "        dict_writer.writerow(feature[\"properties\"])"
   ]
  },
  {
   "cell_type": "code",
   "execution_count": 10,
   "metadata": {
    "collapsed": false,
    "deletable": true,
    "editable": true,
    "scrolled": true
   },
   "outputs": [
    {
     "name": "stdout",
     "output_type": "stream",
     "text": [
      "187\n",
      "1  --  \n",
      "2  --  \n",
      "Acanthocyclops Villosipes  --  Acanthocyclops villosipes\n",
      "Allopentarthrum n. sp. TAC 1  --  Allopentarthrum\n",
      "Allopentarthrum n. sp. TAC 2  --  Allopentarthrum\n",
      "Allopentarthrum sp. TAC 1  --  Allopentarthrum\n",
      "Allopentarthrum sp. TAC 2  --  Allopentarthrum\n",
      "Ammocrypta (Crystallaria) asprella  --  Ammocrypta asprella\n",
      "Anchastus augusti (Candeze)  --  Anchastus augusti\n",
      "Andranthobius n. sp. TAC 1  --  Andranthobius\n",
      "Andranthobius sp. TAC 1  --  Andranthobius\n",
      "Antrostomus  vociferus  --  Antrostomus vociferus\n",
      "Apion aculeatum (Fall)  --  Apion aculeatum\n",
      "Apion buchanani (Kissinger)  --  Apion buchanani\n",
      "Apldium spp.  --  Apldium\n",
      "Arsapnia [=Capnia] arapahoe  --  Arsapnia arapahoe\n",
      "Asteriid spp.  --  Asteriid\n",
      "Batrisodes (Babnormodes) feminiclypeus  --  Batrisodes feminiclypeus\n",
      "Batrisodes (Babnormodes) gravesi (Chandler and  --  Batrisodes gravesi\n",
      "Batrisodes (Excavodes) cryptotexanus (Chandler a  --  Batrisodes cryptotexanus\n",
      "Batrisodes (Excavodes) globosus (LeConte)  --  Batrisodes globosus\n",
      "Brachystylus microphthalmus (Champion)  --  Brachystylus microphthalmus\n",
      "Bufo [Anaxyrus] quercicus  --  Bufo quercicus\n",
      "Bufo fowleri formerly Bufo woodhousii fowleri  --  Bufo fowleri formerly bufo woodhousii fowleri\n",
      "Byrsonima lucida x B. spicata  --  Byrsonima lucida x b. spicata\n",
      "Calamintha sp. 1  --  Calamintha\n",
      "Calidris  subruficollis  --  Calidris subruficollis\n",
      "Callophrys gryneus Columbia Basin segregate  --  Callophrys gryneus columbia basin segregate\n",
      "Callophrys polios Puget Trough segregate  --  Callophrys polios puget trough segregate\n",
      "Cambarus (Puncticambarus) aldermanorum  --  Cambarus aldermanorum\n",
      "Chlorotettix sp 1  --  Chlorotettix\n",
      "Chortodes (Hypocoena) defecta  --  Chortodes defecta\n",
      "Chortodes (Hypocoena) enervata  --  Chortodes enervata\n",
      "Chortodes (Hypocoena) inquinata  --  Chortodes inquinata\n",
      "Chrysis woodi [Plusiotus]  --  Chrysis woodi\n",
      "Chub (Hybopsis amnis  --  Chub\n",
      "Cicurina cueva (Gertsch)  --  Cicurina cueva\n",
      "Cicurina elliotti (Gertsch)  --  Cicurina elliotti\n",
      "Cicurina gatita (Gertsch)  --  Cicurina gatita\n",
      "Cicurina reyesi (Gertsch)  --  Cicurina reyesi\n",
      "Combined account 1  --  Combined account\n",
      "Combined account 2  --  Combined account\n",
      "Combined account 3  --  Combined account\n",
      "Combined account 4  --  Combined account\n",
      "Combined account 5  --  Combined account\n",
      "Combined account 6  --  Combined account\n",
      "Coryphantha robustispina subsp. Uncinata  --  Coryphantha robustispina ssp. uncinata\n",
      "Cottid Family  --  Cottid family\n",
      "Cyanea spp.  --  Cyanea\n",
      "Danaus P. Plexippus  --  Danaus p. plexippus\n",
      "Delissea niihauensis subsp. kauaiensis  --  Delissea niihauensis ssp. kauaiensis\n",
      "Delissea niihauensis subsp. niihauensis  --  Delissea niihauensis ssp. niihauensis\n",
      "Dendroica petechia 3  --  Dendroica petechia\n",
      "Dendroica petechia 4  --  Dendroica petechia\n",
      "Dorymyrmex bureni/D. medeis  --  Dorymyrmex bureni/d. medeis\n",
      "Echinocereus reichenbachii subsp. baileyi  --  Echinocereus reichenbachii ssp. baileyi\n",
      "Echinocereus reichenbachii subsp. fitchii  --  Echinocereus reichenbachii ssp. fitchii\n",
      "Elleschus n. sp. TAC 1  --  Elleschus\n",
      "Elleschus sp. TAC 1  --  Elleschus\n",
      "Emys (=Clemmys) marmorata  --  Emys marmorata\n",
      "Emys (=Clemmys) marmorata marmorata  --  Emys marmorata marmorata\n",
      "Emys (=Clemmys) marmorata pallida  --  Emys marmorata pallida\n",
      "Etheostoma doration sp.  --  Etheostoma doration\n",
      "Eucosma n.s.  --  Eucosma\n",
      "Eurystrymon favonius Ontario  --  Eurystrymon favonius ontario\n",
      "Fallicambarus houstonensis  1  --  Fallicambarus houstonensis\n",
      "Fallicambarus houstonensis  2  --  Fallicambarus houstonensis\n",
      "Family Xanthidae  --  Family xanthidae\n",
      "Fixsenia (Satyrium) ilavia  --  Fixsenia ilavia\n",
      "Gasterosteus aculeatus santannae (=ssp. 1)  --  Gasterosteus aculeatus santannae\n",
      "Harmothoinae sp. A  --  Harmothoinae\n",
      "Hemileuca (chinatiensis) comwayae  --  Hemileuca comwayae\n",
      "Hemileuca (nevadensis) artemis  --  Hemileuca artemis\n",
      "Hemipterid Family  --  Hemipterid family\n",
      "Hesperaloe funifera subsp. funifera  --  Hesperaloe funifera ssp. funifera\n",
      "Hesperia colorado Salish Sea segregate  --  Hesperia colorado salish sea segregate\n",
      "Icaricia acmon ssp.  --  Icaricia acmon\n",
      "Islandiana unicornis Ivie  --  Islandiana unicornis ivie\n",
      "Kalmia Carolina  --  Kalmia carolina\n",
      "Lampetra tridentata ssp. 1  --  Lampetra tridentata\n",
      "Lampetra tridentata ssp. 5  --  Lampetra tridentata\n",
      "Lampetra tridentata ssp. 6  --  Lampetra tridentata\n",
      "Lampropeltis triangulum elapsoides X triangulum  --  Lampropeltis triangulum elapsoides x triangulum\n",
      "Lampsilis sp_A  --  Lampsilis sp_a\n",
      "Lampsilis sp_B  --  Lampsilis sp_b\n",
      "Lavinia symmetricus ssp. 1  --  Lavinia symmetricus\n",
      "Lavinia symmetricus ssp. 2  --  Lavinia symmetricus\n",
      "Lavinia symmetricus ssp. 3  --  Lavinia symmetricus\n",
      "Lavinia symmetricus ssp. 4  --  Lavinia symmetricus\n",
      "Liceolus n. sp.  --  Liceolus\n",
      "Lipochaeta lobata subsp. leptophylla  --  Lipochaeta lobata ssp. leptophylla\n",
      "Lipochaeta spp.  --  Lipochaeta\n",
      "Lobelia gaudichaudii subsp. koolauensis  --  Lobelia gaudichaudii ssp. koolauensis\n",
      "Lupinus sulphureus ssp. Kincaidii  --  Lupinus sulphureus ssp. kincaidii\n",
      "Lyonsia (Entodesma) beana  --  Lyonsia beana\n",
      "Martes caurina pop. 3  --  Martes caurina\n",
      "Microtus pennsylvanicus Provectus  --  Microtus pennsylvanicus provectus\n",
      "Mississippi unnamed species 1  --  Mississippi unnamed species\n",
      "Mississippi unnamed species 2  --  Mississippi unnamed species\n",
      "Mithrax aculeatus (pilosus)  --  Mithrax aculeatus\n",
      "Montacutidae sp. A  --  Montacutidae\n",
      "Mundochthonius Caves/Karstrnicolus  --  Mundochthonius caves/karstrnicolus\n",
      "[no scientific name] 1  --  \n",
      "[no scientific name] 2  --  \n",
      "[no scientific name] 3  --  \n",
      "[no scientific name] 4  --  \n",
      "[no scientific name] 5  --  \n",
      "[no scientific name] 6  --  \n",
      "[no scientific name] 7  --  \n",
      "Notropis  dorsalis  --  Notropis dorsalis\n",
      "[not yet named]  --  \n",
      "Nymphalis vaualbum (l-album)  --  Nymphalis vaualbum\n",
      "Okenia sp. A  --  Okenia\n",
      "Okenia sp. B  --  Okenia\n",
      "Oncorhynchus mykiss newberrii 29  --  Oncorhynchus mykiss newberrii\n",
      "Oncorhynchus mykiss newberrii 30  --  Oncorhynchus mykiss newberrii\n",
      "Oncorhynchus mykiss newberrii 31  --  Oncorhynchus mykiss newberrii\n",
      "Oncorhynchus mykiss newberrii 33  --  Oncorhynchus mykiss newberrii\n",
      "Oncorhynchus mykiss newberrii 34  --  Oncorhynchus mykiss newberrii\n",
      "Oncorhynchus mykiss newberrii/stonei 32  --  Oncorhynchus mykiss newberrii/stonei\n",
      "Oncorhynchus mykiss newberrii/stonei 35  --  Oncorhynchus mykiss newberrii/stonei\n",
      "Oncorhynchus mykiss/Oncorhynchus mykiss gairdneri 43  --  Oncorhynchus mykiss/oncorhynchus mykiss gairdneri\n",
      "Oncorhynchus mykiss/Oncorhynchus mykiss gairdneri 44  --  Oncorhynchus mykiss/oncorhynchus mykiss gairdneri\n",
      "Oncorhynchus mykiss/Oncorhynchus mykiss irideus 40  --  Oncorhynchus mykiss/oncorhynchus mykiss irideus\n",
      "Oncorhynchus mykiss/Oncorhynchus mykiss irideus 41  --  Oncorhynchus mykiss/oncorhynchus mykiss irideus\n",
      "Oncorhynchus mykiss/Oncorhynchus mykiss irideus 42  --  Oncorhynchus mykiss/oncorhynchus mykiss irideus\n",
      "Oncorhynchus mykiss/Oncorhynchus mykiss irideus 45  --  Oncorhynchus mykiss/oncorhynchus mykiss irideus\n",
      "Oncorhynchus mykiss/Oncorhynchus mykiss irideus 46  --  Oncorhynchus mykiss/oncorhynchus mykiss irideus\n",
      "Order Anostraca  --  Order anostraca\n",
      "Orygocerus sp.  --  Orygocerus\n",
      "Osmanthus (Olea) sandwicensis  --  Osmanthus sandwicensis\n",
      "Paracyclops Fimbriatus Chiltoni  --  Paracyclops fimbriatus chiltoni\n",
      "Paraphlepsius lupalus 1  --  Paraphlepsius lupalus\n",
      "Paraphlepsius lupalus 2  --  Paraphlepsius lupalus\n",
      "Partula sp.  --  Partula\n",
      "Parula Americana  --  Parula americana\n",
      "Penstemon triflorus subsp. integrifolius  --  Penstemon triflorus ssp. integrifolius\n",
      "Penstemon triflorus subsp. triflorus  --  Penstemon triflorus ssp. triflorus\n",
      "Perdita (Perdita) crotonis decipiens (Timberlake)  --  Perdita crotonis decipiens\n",
      "Pericelis hymanae Poulter  --  Pericelis hymanae poulter\n",
      "Phagocata dissimilis sp. nov.  --  Phagocata dissimilis\n",
      "Phagocata projecta sp. nov.  --  Phagocata projecta\n",
      "Pholid Family  --  Pholid family\n",
      "Phoxinus eos x Phoxinus neogaeus  --  Phoxinus eos x phoxinus neogaeus\n",
      "Physa Physa megalochlamys  --  Physa physa megalochlamys\n",
      "Physeter catodon [microcephalus]  --  Physeter catodon\n",
      "Platyomus flexicaulis (Schaeffer)  --  Platyomus flexicaulis\n",
      "Platyperigea (Caradrina) meralis  --  Platyperigea meralis\n",
      "Plecotus (Chorynorhinus) townsendii pallescens  --  Plecotus townsendii pallescens\n",
      "Plocetes versicolor (Clark)  --  Plocetes versicolor\n",
      "Protandrena (Heterosarus) subglaber (Timberlake  --  Protandrena subglaber\n",
      "Pseudopanurgus bradleyi (Timberlake)  --  Pseudopanurgus bradleyi\n",
      "Pungitius pungitius occidentalis 3  --  Pungitius pungitius occidentalis\n",
      "Pungitius pungitius occidentalis 4  --  Pungitius pungitius occidentalis\n",
      "Rana [Lithobates] capito  --  Rana capito\n",
      "Rana [Lithobates] heckscheri  --  Rana heckscheri\n",
      "Rana pipiens (Intermountain valleys)  --  Rana pipiens\n",
      "Rana sylvatica [Lithobates sylvaticus] pop.3  --  Rana sylvatica\n",
      "Rhamphocottid Family  --  Rhamphocottid family\n",
      "Rhodactis spp.  --  Rhodactis\n",
      "Rhypasma n. sp. EGR 1  --  Rhypasma\n",
      "Rhypasma sp. EGR 1  --  Rhypasma\n",
      "Rosa stellata subsp. mirifica var. erlansoniae  --  Rosa stellata ssp. mirifica var. erlansoniae\n",
      "Satyrium edwardsii Fontigens bottimeri  --  Satyrium edwardsii fontigens bottimeri\n",
      "Scartomyzon sp. 1  --  Scartomyzon\n",
      "Schoenoplectus lacustris subsp. validus  --  Schoenoplectus lacustris ssp. validus\n",
      "Scolepis sp.  --  Scolepis\n",
      "Scutigerella linsleyi (Michelbacher)  --  Scutigerella linsleyi\n",
      "Scutigerella palmonii (Michelbacher)  --  Scutigerella palmonii\n",
      "Scutigerella silvestrii (Michelbacher)  --  Scutigerella silvestrii\n",
      "Sextonia sp. A  --  Sextonia\n",
      "Sphaenothecus trilineatus (Dupont)  --  Sphaenothecus trilineatus\n",
      "Sphalloplana cava sp. nov.  --  Sphalloplana cava\n",
      "Stichaeid Family  --  Stichaeid family\n",
      "Stizostedion sp 1  --  Stizostedion\n",
      "Streptanthus maculatus subsp. maculatus  --  Streptanthus maculatus ssp. maculatus\n",
      "Strongylium aulicum (Maklin)  --  Strongylium aulicum\n",
      "Strongylium championi (Gebien)  --  Strongylium championi\n",
      "Subclass Scleractinia  --  Subclass scleractinia\n",
      "Talanus mecoselis (Triplehorn)  --  Talanus mecoselis\n",
      "Tartarocreagris reddelli (Muchmore)  --  Tartarocreagris reddelli\n",
      "Tetraplasandra sp.  --  Tetraplasandra\n",
      "Toxorhynchites rutilus rutilus/ T.r.septentrionalis  --  Toxorhynchites rutilus rutilus/ t.r.septentrionalis\n",
      "Undescribed Anarchias species  --  Undescribed anarchias species\n",
      "Undescribed Bodianus species  --  Undescribed bodianus species\n",
      "Undescribed Prognathodes species  --  Undescribed prognathodes species\n",
      "Vertigo hubrichti variabilis n. subsp.  --  Vertigo hubrichti variabilis\n"
     ]
    }
   ],
   "source": [
    "r = requests.get(gc2.sqlAPI(\"DataDistillery\",\"BCB\")+\"&q=SELECT registration->'scientificname' AS scientificname, itis->'itisMatchString' AS itismatchstring FROM tir.tir WHERE itis->'itisMatchMethod' = 'Not Matched' AND registration->'scientificname' <> itis->'itisMatchString' ORDER BY registration->'scientificname'\").json()\n",
    "\n",
    "print (len(r[\"features\"]))\n",
    "\n",
    "for feature in r[\"features\"]:\n",
    "    print (feature[\"properties\"][\"scientificname\"],\" -- \",feature[\"properties\"][\"itismatchstring\"])"
   ]
  },
  {
   "cell_type": "code",
   "execution_count": 23,
   "metadata": {
    "collapsed": false,
    "deletable": true,
    "editable": true,
    "scrolled": false
   },
   "outputs": [
    {
     "name": "stdout",
     "output_type": "stream",
     "text": [
      "{'_execution_time': 0.099, 'success': True, 'auth_check': {'success': True, 'auth_level': None, 'session': None}, 'type': 'FeatureCollection', 'features': [{'type': 'Feature', 'properties': {'num': 28}}], 'forGrid': [{'dataIndex': 'num', 'type': 'bigint', 'typeObj': None, 'header': 'num'}], 'forStore': [{'type': 'bigint', 'name': 'num'}]}\n"
     ]
    }
   ],
   "source": [
    "print (requests.get(gc2.sqlAPI(\"DataDistillery\",\"BCB\")+\"&q=SELECT count(*) AS num FROM tir.tir WHERE itis->'itisMatchMethod' = 'Not Matched' AND worms->'wormsMatchMethod' <> 'Not Matched'\").json())"
   ]
  },
  {
   "cell_type": "code",
   "execution_count": 20,
   "metadata": {
    "collapsed": false,
    "deletable": true,
    "editable": true,
    "scrolled": false
   },
   "outputs": [
    {
     "name": "stdout",
     "output_type": "stream",
     "text": [
      "{'_execution_time': 0.252, 'success': True, 'affected_rows': 17320, 'auth_check': {'success': True, 'auth_level': None, 'session': None}}\n"
     ]
    }
   ],
   "source": [
    "print (requests.get(gc2.sqlAPI(\"DataDistillery\",\"BCB\")+\"&q=UPDATE tir.tir SET worms = NULL\").json())"
   ]
  },
  {
   "cell_type": "code",
   "execution_count": 22,
   "metadata": {
    "collapsed": false,
    "deletable": true,
    "editable": true,
    "scrolled": true
   },
   "outputs": [
    {
     "name": "stdout",
     "output_type": "stream",
     "text": [
      "accepted\n",
      "valid\n",
      "None\n"
     ]
    }
   ],
   "source": [
    "r = requests.get(gc2.sqlAPI(\"DataDistillery\",\"BCB\")+\"&q=SELECT DISTINCT itis->'usage' AS itisusage FROM tir.tir\").json()\n",
    "for feature in r[\"features\"]:\n",
    "    print(feature[\"properties\"][\"itisusage\"])\n",
    "    \n",
    "    "
   ]
  },
  {
   "cell_type": "code",
   "execution_count": 7,
   "metadata": {
    "collapsed": false,
    "deletable": true,
    "editable": true,
    "scrolled": true
   },
   "outputs": [
    {
     "data": {
      "text/plain": [
       "{'_execution_time': 0.626,\n",
       " 'auth_check': {'auth_level': None, 'session': None, 'success': True},\n",
       " 'features': [{'properties': {'num': 10880}, 'type': 'Feature'}],\n",
       " 'forGrid': [{'dataIndex': 'num',\n",
       "   'header': 'num',\n",
       "   'type': 'bigint',\n",
       "   'typeObj': None}],\n",
       " 'forStore': [{'name': 'num', 'type': 'bigint'}],\n",
       " 'success': True,\n",
       " 'type': 'FeatureCollection'}"
      ]
     },
     "metadata": {},
     "output_type": "display_data"
    }
   ],
   "source": [
    "display (requests.get(gc2.sqlAPI(\"DataDistillery\",\"BCB\")+\"&q=SELECT count(*) AS num FROM sgcn.sgcn_nationallist WHERE sgcn2005 > 0\").json())"
   ]
  },
  {
   "cell_type": "code",
   "execution_count": 2,
   "metadata": {
    "collapsed": false,
    "deletable": true,
    "editable": true
   },
   "outputs": [
    {
     "data": {
      "text/plain": [
       "{'criteria': 'Spooge',\n",
       " 'dateCached': '2017-06-29T21:27:06.358860',\n",
       " 'queryType': 'SCINAME',\n",
       " 'queryURL': 'https://ecos.fws.gov/ecp0/TessQuery?request=query&xquery=/SPECIES_DETAIL[SCINAME=\"Spooge\"]',\n",
       " 'result': False}"
      ]
     },
     "metadata": {},
     "output_type": "display_data"
    }
   ],
   "source": [
    "from bis import tess\n",
    "\n",
    "display (tess.queryTESS(\"SCINAME\",\"Spooge\"))\n",
    "\n"
   ]
  },
  {
   "cell_type": "code",
   "execution_count": null,
   "metadata": {
    "collapsed": true,
    "deletable": true,
    "editable": true
   },
   "outputs": [],
   "source": []
  }
 ],
 "metadata": {
  "kernelspec": {
   "display_name": "Python 3",
   "language": "python",
   "name": "python3"
  },
  "language_info": {
   "codemirror_mode": {
    "name": "ipython",
    "version": 3
   },
   "file_extension": ".py",
   "mimetype": "text/x-python",
   "name": "python",
   "nbconvert_exporter": "python",
   "pygments_lexer": "ipython3",
   "version": "3.5.3"
  }
 },
 "nbformat": 4,
 "nbformat_minor": 0
}
