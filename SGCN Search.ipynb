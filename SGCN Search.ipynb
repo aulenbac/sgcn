{
 "cells": [
  {
   "cell_type": "markdown",
   "metadata": {
    "deletable": true,
    "editable": true
   },
   "source": [
    "# SGCN Search\n",
    "\n",
    "We changed pretty much everything about how this search is supposed to function under the new GC2 instance on the DataDistillery. Because we put logic into building out TIR Common Properties (see that under the tir repo), we are now trying to simply search on an index created from the TIR core table. You can facet on taxonomic group, taxonomic rank, and match method here for the SGCN searches. The main thing that has do be done is to first limit the search to the SGCN registrants (source=SGCN).\n",
    "\n",
    "```json\n",
    "{\n",
    "  \"query\": {\n",
    "    \"match\": {\n",
    "      \"properties.source\": \"SGCN\"\n",
    "    }\n",
    "  }\n",
    "}\n",
    "```\n",
    "\n",
    "All the other information that we had previously chunked out into separate fields from what was in HStore properties is still there, but it is now in JSONB data fields in the tir table. We are initially trying to just pipe all that into ElasticSearch via GC2 to see how searches behave. We will likely need to parse the properties we care about out again in some fasion to make them more usable as we're likely to get weird results with the way the JSONB data structures are thrown into ElasticSearch as escaped text strings. Or we may want to either a) pull the plug on the GC2 way of piping to ElasticSearch and go to a different architecture or b) look at the GC2 codebase again to see if we could contribute some new thinking about different kinds of PostgreSQL-stored data than they had considered.\n",
    "\n",
    "A couple changes to worry about here:\n",
    "\n",
    "- taxonomicauthorityid changed to authorityid\n",
    "- taxonomicrank changed to rank"
   ]
  },
  {
   "cell_type": "code",
   "execution_count": 5,
   "metadata": {
    "collapsed": true,
    "deletable": true,
    "editable": true
   },
   "outputs": [],
   "source": [
    "import requests\n",
    "from IPython.display import display\n",
    "import pandas as pd"
   ]
  },
  {
   "cell_type": "code",
   "execution_count": 2,
   "metadata": {
    "collapsed": true,
    "deletable": true,
    "editable": true
   },
   "outputs": [],
   "source": [
    "#Class to render tables\n",
    "class ListTable(list):\n",
    "    def _repr_html_(self):\n",
    "        html = [\"<table>\"]\n",
    "        for row in self:\n",
    "            html.append(\"<tr>\")\n",
    "            \n",
    "            for col in row:\n",
    "                html.append(\"<td>{0}</td>\".format(col))\n",
    "            \n",
    "            html.append(\"</tr>\")\n",
    "        html.append(\"</table>\")\n",
    "        return ''.join(html)"
   ]
  },
  {
   "cell_type": "markdown",
   "metadata": {
    "deletable": true,
    "editable": true
   },
   "source": [
    "This query returns results from the Elasticsearch index for the tir.tir table. It only calls the first 25 results, so that will need to be paginated for the SWAP online app. I included the taxonomic authority ID as a reference. Those IDs to ITIS or WoRMS return a machine-readable response and are not content negotiable, so if we want to include them in the UI, we would need to translate the ID into something for humans."
   ]
  },
  {
   "cell_type": "code",
   "execution_count": 11,
   "metadata": {
    "collapsed": false,
    "deletable": true,
    "editable": true,
    "scrolled": true
   },
   "outputs": [
    {
     "ename": "ValueError",
     "evalue": "If using all scalar values, you must pass an index",
     "output_type": "error",
     "traceback": [
      "\u001b[0;31m---------------------------------------------------------------------------\u001b[0m",
      "\u001b[0;31mValueError\u001b[0m                                Traceback (most recent call last)",
      "\u001b[0;32m<ipython-input-11-0dd58860f8c3>\u001b[0m in \u001b[0;36m<module>\u001b[0;34m()\u001b[0m\n\u001b[1;32m      5\u001b[0m \u001b[0;32mfor\u001b[0m \u001b[0mhit\u001b[0m \u001b[0;32min\u001b[0m \u001b[0msgcnNationalList\u001b[0m\u001b[0;34m[\u001b[0m\u001b[0;34m'hits'\u001b[0m\u001b[0;34m]\u001b[0m\u001b[0;34m[\u001b[0m\u001b[0;34m'hits'\u001b[0m\u001b[0;34m]\u001b[0m\u001b[0;34m:\u001b[0m\u001b[0;34m\u001b[0m\u001b[0m\n\u001b[1;32m      6\u001b[0m     \u001b[0;32mif\u001b[0m \u001b[0mhitNum\u001b[0m \u001b[0;34m==\u001b[0m \u001b[0;36m0\u001b[0m\u001b[0;34m:\u001b[0m\u001b[0;34m\u001b[0m\u001b[0m\n\u001b[0;32m----> 7\u001b[0;31m         \u001b[0mresults\u001b[0m \u001b[0;34m=\u001b[0m \u001b[0mpd\u001b[0m\u001b[0;34m.\u001b[0m\u001b[0mDataFrame\u001b[0m\u001b[0;34m(\u001b[0m\u001b[0mhit\u001b[0m\u001b[0;34m[\u001b[0m\u001b[0;34m\"_source\"\u001b[0m\u001b[0;34m]\u001b[0m\u001b[0;34m[\u001b[0m\u001b[0;34m\"properties\"\u001b[0m\u001b[0;34m]\u001b[0m\u001b[0;34m)\u001b[0m\u001b[0;34m\u001b[0m\u001b[0m\n\u001b[0m\u001b[1;32m      8\u001b[0m     \u001b[0;32melse\u001b[0m\u001b[0;34m:\u001b[0m\u001b[0;34m\u001b[0m\u001b[0m\n\u001b[1;32m      9\u001b[0m         \u001b[0mnewResult\u001b[0m \u001b[0;34m=\u001b[0m \u001b[0mpd\u001b[0m\u001b[0;34m.\u001b[0m\u001b[0mDataFrame\u001b[0m\u001b[0;34m(\u001b[0m\u001b[0mhit\u001b[0m\u001b[0;34m[\u001b[0m\u001b[0;34m\"_source\"\u001b[0m\u001b[0;34m]\u001b[0m\u001b[0;34m[\u001b[0m\u001b[0;34m\"properties\"\u001b[0m\u001b[0;34m]\u001b[0m\u001b[0;34m)\u001b[0m\u001b[0;34m\u001b[0m\u001b[0m\n",
      "\u001b[0;32m/Users/sky/anaconda/lib/python3.5/site-packages/pandas/core/frame.py\u001b[0m in \u001b[0;36m__init__\u001b[0;34m(self, data, index, columns, dtype, copy)\u001b[0m\n\u001b[1;32m    264\u001b[0m                                  dtype=dtype, copy=copy)\n\u001b[1;32m    265\u001b[0m         \u001b[0;32melif\u001b[0m \u001b[0misinstance\u001b[0m\u001b[0;34m(\u001b[0m\u001b[0mdata\u001b[0m\u001b[0;34m,\u001b[0m \u001b[0mdict\u001b[0m\u001b[0;34m)\u001b[0m\u001b[0;34m:\u001b[0m\u001b[0;34m\u001b[0m\u001b[0m\n\u001b[0;32m--> 266\u001b[0;31m             \u001b[0mmgr\u001b[0m \u001b[0;34m=\u001b[0m \u001b[0mself\u001b[0m\u001b[0;34m.\u001b[0m\u001b[0m_init_dict\u001b[0m\u001b[0;34m(\u001b[0m\u001b[0mdata\u001b[0m\u001b[0;34m,\u001b[0m \u001b[0mindex\u001b[0m\u001b[0;34m,\u001b[0m \u001b[0mcolumns\u001b[0m\u001b[0;34m,\u001b[0m \u001b[0mdtype\u001b[0m\u001b[0;34m=\u001b[0m\u001b[0mdtype\u001b[0m\u001b[0;34m)\u001b[0m\u001b[0;34m\u001b[0m\u001b[0m\n\u001b[0m\u001b[1;32m    267\u001b[0m         \u001b[0;32melif\u001b[0m \u001b[0misinstance\u001b[0m\u001b[0;34m(\u001b[0m\u001b[0mdata\u001b[0m\u001b[0;34m,\u001b[0m \u001b[0mma\u001b[0m\u001b[0;34m.\u001b[0m\u001b[0mMaskedArray\u001b[0m\u001b[0;34m)\u001b[0m\u001b[0;34m:\u001b[0m\u001b[0;34m\u001b[0m\u001b[0m\n\u001b[1;32m    268\u001b[0m             \u001b[0;32mimport\u001b[0m \u001b[0mnumpy\u001b[0m\u001b[0;34m.\u001b[0m\u001b[0mma\u001b[0m\u001b[0;34m.\u001b[0m\u001b[0mmrecords\u001b[0m \u001b[0;32mas\u001b[0m \u001b[0mmrecords\u001b[0m\u001b[0;34m\u001b[0m\u001b[0m\n",
      "\u001b[0;32m/Users/sky/anaconda/lib/python3.5/site-packages/pandas/core/frame.py\u001b[0m in \u001b[0;36m_init_dict\u001b[0;34m(self, data, index, columns, dtype)\u001b[0m\n\u001b[1;32m    400\u001b[0m             \u001b[0marrays\u001b[0m \u001b[0;34m=\u001b[0m \u001b[0;34m[\u001b[0m\u001b[0mdata\u001b[0m\u001b[0;34m[\u001b[0m\u001b[0mk\u001b[0m\u001b[0;34m]\u001b[0m \u001b[0;32mfor\u001b[0m \u001b[0mk\u001b[0m \u001b[0;32min\u001b[0m \u001b[0mkeys\u001b[0m\u001b[0;34m]\u001b[0m\u001b[0;34m\u001b[0m\u001b[0m\n\u001b[1;32m    401\u001b[0m \u001b[0;34m\u001b[0m\u001b[0m\n\u001b[0;32m--> 402\u001b[0;31m         \u001b[0;32mreturn\u001b[0m \u001b[0m_arrays_to_mgr\u001b[0m\u001b[0;34m(\u001b[0m\u001b[0marrays\u001b[0m\u001b[0;34m,\u001b[0m \u001b[0mdata_names\u001b[0m\u001b[0;34m,\u001b[0m \u001b[0mindex\u001b[0m\u001b[0;34m,\u001b[0m \u001b[0mcolumns\u001b[0m\u001b[0;34m,\u001b[0m \u001b[0mdtype\u001b[0m\u001b[0;34m=\u001b[0m\u001b[0mdtype\u001b[0m\u001b[0;34m)\u001b[0m\u001b[0;34m\u001b[0m\u001b[0m\n\u001b[0m\u001b[1;32m    403\u001b[0m \u001b[0;34m\u001b[0m\u001b[0m\n\u001b[1;32m    404\u001b[0m     \u001b[0;32mdef\u001b[0m \u001b[0m_init_ndarray\u001b[0m\u001b[0;34m(\u001b[0m\u001b[0mself\u001b[0m\u001b[0;34m,\u001b[0m \u001b[0mvalues\u001b[0m\u001b[0;34m,\u001b[0m \u001b[0mindex\u001b[0m\u001b[0;34m,\u001b[0m \u001b[0mcolumns\u001b[0m\u001b[0;34m,\u001b[0m \u001b[0mdtype\u001b[0m\u001b[0;34m=\u001b[0m\u001b[0;32mNone\u001b[0m\u001b[0;34m,\u001b[0m \u001b[0mcopy\u001b[0m\u001b[0;34m=\u001b[0m\u001b[0;32mFalse\u001b[0m\u001b[0;34m)\u001b[0m\u001b[0;34m:\u001b[0m\u001b[0;34m\u001b[0m\u001b[0m\n",
      "\u001b[0;32m/Users/sky/anaconda/lib/python3.5/site-packages/pandas/core/frame.py\u001b[0m in \u001b[0;36m_arrays_to_mgr\u001b[0;34m(arrays, arr_names, index, columns, dtype)\u001b[0m\n\u001b[1;32m   5396\u001b[0m     \u001b[0;31m# figure out the index, if necessary\u001b[0m\u001b[0;34m\u001b[0m\u001b[0;34m\u001b[0m\u001b[0m\n\u001b[1;32m   5397\u001b[0m     \u001b[0;32mif\u001b[0m \u001b[0mindex\u001b[0m \u001b[0;32mis\u001b[0m \u001b[0;32mNone\u001b[0m\u001b[0;34m:\u001b[0m\u001b[0;34m\u001b[0m\u001b[0m\n\u001b[0;32m-> 5398\u001b[0;31m         \u001b[0mindex\u001b[0m \u001b[0;34m=\u001b[0m \u001b[0mextract_index\u001b[0m\u001b[0;34m(\u001b[0m\u001b[0marrays\u001b[0m\u001b[0;34m)\u001b[0m\u001b[0;34m\u001b[0m\u001b[0m\n\u001b[0m\u001b[1;32m   5399\u001b[0m     \u001b[0;32melse\u001b[0m\u001b[0;34m:\u001b[0m\u001b[0;34m\u001b[0m\u001b[0m\n\u001b[1;32m   5400\u001b[0m         \u001b[0mindex\u001b[0m \u001b[0;34m=\u001b[0m \u001b[0m_ensure_index\u001b[0m\u001b[0;34m(\u001b[0m\u001b[0mindex\u001b[0m\u001b[0;34m)\u001b[0m\u001b[0;34m\u001b[0m\u001b[0m\n",
      "\u001b[0;32m/Users/sky/anaconda/lib/python3.5/site-packages/pandas/core/frame.py\u001b[0m in \u001b[0;36mextract_index\u001b[0;34m(data)\u001b[0m\n\u001b[1;32m   5435\u001b[0m \u001b[0;34m\u001b[0m\u001b[0m\n\u001b[1;32m   5436\u001b[0m         \u001b[0;32mif\u001b[0m \u001b[0;32mnot\u001b[0m \u001b[0mindexes\u001b[0m \u001b[0;32mand\u001b[0m \u001b[0;32mnot\u001b[0m \u001b[0mraw_lengths\u001b[0m\u001b[0;34m:\u001b[0m\u001b[0;34m\u001b[0m\u001b[0m\n\u001b[0;32m-> 5437\u001b[0;31m             raise ValueError('If using all scalar values, you must pass'\n\u001b[0m\u001b[1;32m   5438\u001b[0m                              ' an index')\n\u001b[1;32m   5439\u001b[0m \u001b[0;34m\u001b[0m\u001b[0m\n",
      "\u001b[0;31mValueError\u001b[0m: If using all scalar values, you must pass an index"
     ]
    }
   ],
   "source": [
    "sgcnNationalListURL = 'https://gc2.datadistillery.org/api/v1/elasticsearch/search/bcb/sgcn/sgcn_search?size=25'\n",
    "sgcnNationalList = requests.get(sgcnNationalListURL).json()\n",
    "\n",
    "hitNum = 0\n",
    "for hit in sgcnNationalList['hits']['hits']:\n",
    "    if hitNum == 0:\n",
    "        results = pd.DataFrame(hit[\"_source\"][\"properties\"])\n",
    "    else:\n",
    "        newResult = pd.DataFrame(hit[\"_source\"][\"properties\"])\n",
    "        results.append(newResult)\n",
    "    hitNum = hitNum + 1\n",
    "\n",
    "display (results)\n",
    "\n"
   ]
  },
  {
   "cell_type": "markdown",
   "metadata": {
    "collapsed": true,
    "deletable": true,
    "editable": true
   },
   "source": [
    "## Aggregations (facets)\n",
    "The ES index for the national list is set up to support aggregations on taxonomicgroup, rank, and matchmethod for faceted searching in the system. The aggregations are added to the query DSL using the following:\n",
    "```json\n",
    "{\n",
    "  \"query\": {\n",
    "    \"match\": {\n",
    "      \"properties.source\": \"SGCN\"\n",
    "    }\n",
    "  },\n",
    "  \"aggs\": {\n",
    "    \"taxrank\": {\n",
    "      \"terms\": {\n",
    "        \"field\": \"properties.rank\"\n",
    "      }\n",
    "    },\n",
    "    \"taxgroup\": {\n",
    "      \"terms\": {\n",
    "        \"field\": \"properties.taxonomicgroup\"\n",
    "      }\n",
    "    },\n",
    "    \"matchmethod\": {\n",
    "      \"terms\": {\n",
    "        \"field\": \"properties.matchmethod\"\n",
    "      }\n",
    "    }\n",
    "  }\n",
    "}\n",
    "```\n",
    "See the [ElasticSearch documentation](https://www.elastic.co/guide/en/elasticsearch/reference/current/search-aggregations-bucket-terms-aggregation.html) on aggregations for more details."
   ]
  },
  {
   "cell_type": "markdown",
   "metadata": {
    "deletable": true,
    "editable": true
   },
   "source": [
    "### NOTE:\n",
    "We still have the problem here where the not_analyzed flag in the ElasticSearch GUI from GC2 does not seem to be keeping the aggregation properties from splitting across words."
   ]
  },
  {
   "cell_type": "code",
   "execution_count": 15,
   "metadata": {
    "collapsed": false,
    "deletable": true,
    "editable": true
   },
   "outputs": [
    {
     "name": "stdout",
     "output_type": "stream",
     "text": [
      "Taxonomic Rank\n",
      "species 14316\n",
      "rank 1413\n",
      "taxonomic 1413\n",
      "unknown 1413\n",
      "subspecies 1345\n",
      "genus 506\n",
      "variety 373\n",
      "family 196\n",
      "order 33\n",
      "class 5\n",
      "----\n",
      "Taxonomic Group\n",
      "plants 4307\n",
      "insects 4142\n",
      "other 2076\n",
      "fish 1929\n",
      "mollusks 1791\n",
      "birds 1249\n",
      "invertebrates 1243\n",
      "mammals 823\n",
      "reptiles 660\n",
      "unknown 473\n",
      "----\n",
      "Match Method\n",
      "match 15874\n",
      "exact 14482\n",
      "accepted 1663\n",
      "followed 1663\n",
      "tsn 1592\n",
      "legacy 748\n",
      "matched 665\n",
      "not 665\n",
      "fuzzy 644\n",
      "aphiaid 71\n"
     ]
    }
   ],
   "source": [
    "queryWithAggs = 'https://gc2.datadistillery.org/api/v1/elasticsearch/search/bcb/tir/tir?q={\"query\": {\"match\": {\"properties.source\": \"SGCN\"}},\"aggs\": {\"taxrank\": {\"terms\": {\"field\": \"properties.rank\"}},\"taxgroup\": {\"terms\": {\"field\": \"properties.taxonomicgroup\"}},\"matchmethod\": {\"terms\": {\"field\": \"properties.matchmethod\"}}}}'\n",
    "rAggs = requests.get(queryWithAggs).json()\n",
    "\n",
    "print (\"Taxonomic Rank\")\n",
    "for bucket in rAggs[\"aggregations\"][\"taxrank\"][\"buckets\"]:\n",
    "    print (bucket[\"key\"], bucket[\"doc_count\"])\n",
    "print (\"----\")\n",
    "print (\"Taxonomic Group\")\n",
    "for bucket in rAggs[\"aggregations\"][\"taxgroup\"][\"buckets\"]:\n",
    "    print (bucket[\"key\"], bucket[\"doc_count\"])\n",
    "print (\"----\")\n",
    "print (\"Match Method\")\n",
    "for bucket in rAggs[\"aggregations\"][\"matchmethod\"][\"buckets\"]:\n",
    "    print (bucket[\"key\"], bucket[\"doc_count\"])\n"
   ]
  },
  {
   "cell_type": "markdown",
   "metadata": {
    "deletable": true,
    "editable": true
   },
   "source": [
    "### List of submitting states by year\n",
    "\n",
    "We put another step into the process that assembles SGCN information by unique scientific name into the TIR where the submitting states by year are put into lists. Grabbing this information from an ElasticSearch result set, you can pull out the states by year and put them on a map or other visualization"
   ]
  },
  {
   "cell_type": "code",
   "execution_count": 9,
   "metadata": {
    "collapsed": false,
    "deletable": true,
    "editable": true
   },
   "outputs": [
    {
     "data": {
      "text/plain": [
       "{'_shards': {'failed': 0, 'successful': 5, 'total': 5},\n",
       " 'hits': {'hits': [{'_id': '11924',\n",
       "    '_index': 'bcb_tir_tir',\n",
       "    '_score': 14.656125,\n",
       "    '_source': {'properties': {'authorityid': 'http://services.itis.gov/?q=tsn:80148',\n",
       "      'cachedate': '2017-07-06',\n",
       "      'commonname': 'cylindrical papershell',\n",
       "      'id': 11924,\n",
       "      'itis': '{\"tsn\": \"80148\", \"rank\": \"Species\", \"unit1\": \"Anodontoides\", \"unit2\": \"ferussacianus\", \"usage\": \"valid\", \"kingdom\": \"Animalia\", \"nameWInd\": \"Anodontoides ferussacianus\", \"synonyms\": [\"80148:$Anodontoides denigratus$Anodonta ferussaciana$Anodonta buchanensis$Anodonta subcylindracea$Anodonta argentea$Anodonta ferruginea$Anodon plicatus$Anodonta denigrata$Anodonta oblita$Anodonta modesta$Anodontoides birgei$Anodontoides denigrata$\"], \"cacheDate\": \"2017-07-06T13:37:01.130212\", \"hierarchy\": [{\"name\": \"Animalia\", \"rank\": \"Kingdom\"}, {\"name\": \"Bilateria\", \"rank\": \"Subkingdom\"}, {\"name\": \"Protostomia\", \"rank\": \"Infrakingdom\"}, {\"name\": \"Lophozoa\", \"rank\": \"Superphylum\"}, {\"name\": \"Mollusca\", \"rank\": \"Phylum\"}, {\"name\": \"Bivalvia\", \"rank\": \"Class\"}, {\"name\": \"Palaeoheterodonta\", \"rank\": \"Subclass\"}, {\"name\": \"Unionoida\", \"rank\": \"Order\"}, {\"name\": \"Unionoidea\", \"rank\": \"Superfamily\"}, {\"name\": \"Unionidae\", \"rank\": \"Family\"}, {\"name\": \"Unioninae\", \"rank\": \"Subfamily\"}, {\"name\": \"Alasmidontini\", \"rank\": \"Tribe\"}, {\"name\": \"Anodontoides\", \"rank\": \"Genus\"}, {\"name\": \"Anodontoides ferussacianus\", \"rank\": \"Species\"}], \"nameWOInd\": \"Anodontoides ferussacianus\", \"parentTSN\": \"80147\", \"createDate\": \"1996-06-13 14:51:08\", \"updateDate\": \"2015-06-25 00:00:00\", \"MatchMethod\": \"Exact Match\", \"MatchString\": \"Anodontoides ferussacianus\", \"commonnames\": [{\"name\": \"cylindrical papershell\", \"language\": \"English\"}], \"synonymTSNs\": [\"80148:$906928$985661$985662$985663$985664$985665$985666$985667$985668$985669$985670$988178$\"]}',\n",
       "      'matchmethod': 'Exact Match',\n",
       "      'natureserve': None,\n",
       "      'rank': 'Species',\n",
       "      'registration': '{\"source\": \"SGCN\", \"commonnames\": [{\"commonname\": \"Cylinder\"}, {\"commonname\": \"Cylinder (Cylindrical Papershell)\"}, {\"commonname\": \"cylindrical papershell\"}, {\"commonname\": \"Cylindrical papershell\"}, {\"commonname\": \"Cylindrical Papershell\"}], \"followTaxonomy\": true, \"scientificname\": \"Anodontoides ferussacianus\", \"registrationDate\": \"2017-07-05T13:43:57.127727\", \"taxonomicLookupProperty\": \"scientificname\"}',\n",
       "      'scientificname': 'Anodontoides ferussacianus',\n",
       "      'sgcn': '{\"swap2005\": true, \"taxonomicgroup\": \"Mollusks\"}',\n",
       "      'source': 'SGCN',\n",
       "      'taxonomicgroup': 'Mollusks',\n",
       "      'tess': '{\"result\": false, \"criteria\": \"Anodontoides ferussacianus\", \"queryType\": \"SCINAME\", \"dateCached\": \"2017-07-19T13:14:23.016023\"}',\n",
       "      'worms': '{\"lsid\": \"urn:lsid:marinespecies.org:taxname:571959\", \"rank\": \"Species\", \"class\": \"Bivalvia\", \"genus\": \"Anodontoides\", \"order\": \"Unionida\", \"family\": \"Unionidae\", \"phylum\": \"Mollusca\", \"status\": \"accepted\", \"AphiaID\": 571959, \"kingdom\": \"Animalia\", \"isMarine\": 0, \"modified\": \"2016-11-11T01:15:03Z\", \"cacheDate\": \"2017-07-06T14:33:52.887301\", \"isExtinct\": null, \"isBrackish\": 0, \"match_type\": \"exact\", \"valid_name\": \"Anodontoides ferussacianus\", \"MatchMethod\": \"Exact Match\", \"MatchString\": \"Anodontoides ferussacianus\", \"isFreshwater\": 1, \"isTerrestrial\": 0, \"valid_AphiaID\": 571959, \"scientificname\": \"Anodontoides ferussacianus\", \"unacceptreason\": null}'},\n",
       "     'type': 'Feature'},\n",
       "    '_type': 'tir'},\n",
       "   {'_id': '11921',\n",
       "    '_index': 'bcb_tir_tir',\n",
       "    '_score': 14.619988,\n",
       "    '_source': {'properties': {'authorityid': 'http://services.itis.gov/?q=tsn:80148',\n",
       "      'cachedate': '2017-07-06',\n",
       "      'commonname': 'cylindrical papershell',\n",
       "      'id': 11921,\n",
       "      'itis': '{\"tsn\": \"80148\", \"rank\": \"Species\", \"unit1\": \"Anodontoides\", \"unit2\": \"ferussacianus\", \"usage\": \"valid\", \"kingdom\": \"Animalia\", \"nameWInd\": \"Anodontoides ferussacianus\", \"synonyms\": [\"80148:$Anodontoides denigratus$Anodonta ferussaciana$Anodonta buchanensis$Anodonta subcylindracea$Anodonta argentea$Anodonta ferruginea$Anodon plicatus$Anodonta denigrata$Anodonta oblita$Anodonta modesta$Anodontoides birgei$Anodontoides denigrata$\"], \"cacheDate\": \"2017-07-06T13:36:54.514074\", \"hierarchy\": [{\"name\": \"Animalia\", \"rank\": \"Kingdom\"}, {\"name\": \"Bilateria\", \"rank\": \"Subkingdom\"}, {\"name\": \"Protostomia\", \"rank\": \"Infrakingdom\"}, {\"name\": \"Lophozoa\", \"rank\": \"Superphylum\"}, {\"name\": \"Mollusca\", \"rank\": \"Phylum\"}, {\"name\": \"Bivalvia\", \"rank\": \"Class\"}, {\"name\": \"Palaeoheterodonta\", \"rank\": \"Subclass\"}, {\"name\": \"Unionoida\", \"rank\": \"Order\"}, {\"name\": \"Unionoidea\", \"rank\": \"Superfamily\"}, {\"name\": \"Unionidae\", \"rank\": \"Family\"}, {\"name\": \"Unioninae\", \"rank\": \"Subfamily\"}, {\"name\": \"Alasmidontini\", \"rank\": \"Tribe\"}, {\"name\": \"Anodontoides\", \"rank\": \"Genus\"}, {\"name\": \"Anodontoides ferussacianus\", \"rank\": \"Species\"}], \"nameWOInd\": \"Anodontoides ferussacianus\", \"parentTSN\": \"80147\", \"createDate\": \"1996-06-13 14:51:08\", \"updateDate\": \"2015-06-25 00:00:00\", \"MatchMethod\": \"Fuzzy Match\", \"MatchString\": \"Anodontiodes ferussacianus\", \"commonnames\": [{\"name\": \"cylindrical papershell\", \"language\": \"English\"}], \"synonymTSNs\": [\"80148:$906928$985661$985662$985663$985664$985665$985666$985667$985668$985669$985670$988178$\"]}',\n",
       "      'matchmethod': 'Fuzzy Match',\n",
       "      'natureserve': None,\n",
       "      'rank': 'Species',\n",
       "      'registration': '{\"source\": \"SGCN\", \"commonnames\": [{\"commonname\": \"Cylindrical Papershell\"}], \"followTaxonomy\": true, \"scientificname\": \"Anodontiodes ferussacianus\", \"registrationDate\": \"2017-07-05T13:43:52.673967\", \"taxonomicLookupProperty\": \"scientificname\"}',\n",
       "      'scientificname': 'Anodontoides ferussacianus',\n",
       "      'sgcn': '{\"swap2005\": true, \"taxonomicgroup\": \"Mollusks\"}',\n",
       "      'source': 'SGCN',\n",
       "      'taxonomicgroup': 'Mollusks',\n",
       "      'tess': '{\"result\": false, \"criteria\": \"Anodontoides ferussacianus\", \"queryType\": \"SCINAME\", \"dateCached\": \"2017-07-19T13:14:19.134262\"}',\n",
       "      'worms': '{\"lsid\": \"urn:lsid:marinespecies.org:taxname:571959\", \"rank\": \"Species\", \"class\": \"Bivalvia\", \"genus\": \"Anodontoides\", \"order\": \"Unionida\", \"family\": \"Unionidae\", \"phylum\": \"Mollusca\", \"status\": \"accepted\", \"AphiaID\": 571959, \"kingdom\": \"Animalia\", \"isMarine\": 0, \"modified\": \"2016-11-11T01:15:03Z\", \"cacheDate\": \"2017-07-06T14:33:20.284901\", \"isExtinct\": null, \"isBrackish\": 0, \"match_type\": \"exact\", \"valid_name\": \"Anodontoides ferussacianus\", \"MatchMethod\": \"Exact Match\", \"MatchString\": \"Anodontoides ferussacianus\", \"isFreshwater\": 1, \"isTerrestrial\": 0, \"valid_AphiaID\": 571959, \"scientificname\": \"Anodontoides ferussacianus\", \"unacceptreason\": null}'},\n",
       "     'type': 'Feature'},\n",
       "    '_type': 'tir'},\n",
       "   {'_id': '5335',\n",
       "    '_index': 'bcb_tir_tir',\n",
       "    '_score': 14.60308,\n",
       "    '_source': {'properties': {'authorityid': 'http://services.itis.gov/?q=tsn:80148',\n",
       "      'cachedate': '2017-07-06',\n",
       "      'commonname': 'cylindrical papershell',\n",
       "      'id': 5335,\n",
       "      'itis': '{\"tsn\": \"80148\", \"rank\": \"Species\", \"unit1\": \"Anodontoides\", \"unit2\": \"ferussacianus\", \"usage\": \"valid\", \"kingdom\": \"Animalia\", \"nameWInd\": \"Anodontoides ferussacianus\", \"synonyms\": [\"80148:$Anodontoides denigratus$Anodonta ferussaciana$Anodonta buchanensis$Anodonta subcylindracea$Anodonta argentea$Anodonta ferruginea$Anodon plicatus$Anodonta denigrata$Anodonta oblita$Anodonta modesta$Anodontoides birgei$Anodontoides denigrata$\"], \"cacheDate\": \"2017-07-06T13:36:55.877723\", \"hierarchy\": [{\"name\": \"Animalia\", \"rank\": \"Kingdom\"}, {\"name\": \"Bilateria\", \"rank\": \"Subkingdom\"}, {\"name\": \"Protostomia\", \"rank\": \"Infrakingdom\"}, {\"name\": \"Lophozoa\", \"rank\": \"Superphylum\"}, {\"name\": \"Mollusca\", \"rank\": \"Phylum\"}, {\"name\": \"Bivalvia\", \"rank\": \"Class\"}, {\"name\": \"Palaeoheterodonta\", \"rank\": \"Subclass\"}, {\"name\": \"Unionoida\", \"rank\": \"Order\"}, {\"name\": \"Unionoidea\", \"rank\": \"Superfamily\"}, {\"name\": \"Unionidae\", \"rank\": \"Family\"}, {\"name\": \"Unioninae\", \"rank\": \"Subfamily\"}, {\"name\": \"Alasmidontini\", \"rank\": \"Tribe\"}, {\"name\": \"Anodontoides\", \"rank\": \"Genus\"}, {\"name\": \"Anodontoides ferussacianus\", \"rank\": \"Species\"}], \"nameWOInd\": \"Anodontoides ferussacianus\", \"parentTSN\": \"80147\", \"createDate\": \"1996-06-13 14:51:08\", \"updateDate\": \"2015-06-25 00:00:00\", \"MatchMethod\": \"Followed Accepted TSN\", \"MatchString\": \"Anodontoides denigratus\", \"commonnames\": [{\"name\": \"cylindrical papershell\", \"language\": \"English\"}], \"synonymTSNs\": [\"80148:$906928$985661$985662$985663$985664$985665$985666$985667$985668$985669$985670$988178$\"]}',\n",
       "      'matchmethod': 'Followed Accepted TSN',\n",
       "      'natureserve': '{\"result\": false, \"status\": \"Not Found\", \"dateCached\": \"2017-07-19T18:44:47.481915\", \"elementGlobalID\": \"ELEMENT_GLOBAL.2.121313\"}',\n",
       "      'rank': 'Species',\n",
       "      'registration': '{\"source\": \"SGCN\", \"commonnames\": [{\"commonname\": \"Cumberland Papershell\"}], \"followTaxonomy\": true, \"scientificname\": \"Anodontoides denigratus\", \"registrationDate\": \"2017-07-05T13:43:54.980032\", \"taxonomicLookupProperty\": \"scientificname\"}',\n",
       "      'scientificname': 'Anodontoides ferussacianus',\n",
       "      'sgcn': '{\"swap2005\": true, \"taxonomicgroup\": \"Mollusks\"}',\n",
       "      'source': 'SGCN',\n",
       "      'taxonomicgroup': 'Mollusks',\n",
       "      'tess': '{\"result\": false, \"criteria\": \"Anodontoides ferussacianus\", \"queryType\": \"SCINAME\", \"dateCached\": \"2017-07-07T11:05:28.310711\"}',\n",
       "      'worms': '{\"lsid\": \"urn:lsid:marinespecies.org:taxname:571959\", \"rank\": \"Species\", \"class\": \"Bivalvia\", \"genus\": \"Anodontoides\", \"order\": \"Unionida\", \"family\": \"Unionidae\", \"phylum\": \"Mollusca\", \"status\": \"accepted\", \"AphiaID\": 571959, \"kingdom\": \"Animalia\", \"isMarine\": 0, \"modified\": \"2016-11-11T01:15:03Z\", \"cacheDate\": \"2017-07-06T19:34:42.973744\", \"isExtinct\": null, \"isBrackish\": 0, \"match_type\": \"exact\", \"valid_name\": \"Anodontoides ferussacianus\", \"MatchMethod\": \"Followed Accepted AphiaID\", \"MatchString\": \"571959\", \"isFreshwater\": 1, \"isTerrestrial\": 0, \"valid_AphiaID\": 571959, \"scientificname\": \"Anodontoides ferussacianus\", \"unacceptreason\": null}'},\n",
       "     'type': 'Feature'},\n",
       "    '_type': 'tir'},\n",
       "   {'_id': '11925',\n",
       "    '_index': 'bcb_tir_tir',\n",
       "    '_score': 7.365497,\n",
       "    '_source': {'properties': {'authorityid': 'http://services.itis.gov/?q=tsn:80149',\n",
       "      'cachedate': '2017-07-06',\n",
       "      'commonname': 'rayed creekshell',\n",
       "      'id': 11925,\n",
       "      'itis': '{\"tsn\": \"80149\", \"rank\": \"Species\", \"unit1\": \"Anodontoides\", \"unit2\": \"radiatus\", \"usage\": \"valid\", \"kingdom\": \"Animalia\", \"nameWInd\": \"Anodontoides radiatus\", \"synonyms\": [\"80149:$Alasmodonta radiata$Margaritana elliottii$Margaritana elliptica$Anodonta showalterii$\"], \"cacheDate\": \"2017-07-06T13:37:02.185529\", \"hierarchy\": [{\"name\": \"Animalia\", \"rank\": \"Kingdom\"}, {\"name\": \"Bilateria\", \"rank\": \"Subkingdom\"}, {\"name\": \"Protostomia\", \"rank\": \"Infrakingdom\"}, {\"name\": \"Lophozoa\", \"rank\": \"Superphylum\"}, {\"name\": \"Mollusca\", \"rank\": \"Phylum\"}, {\"name\": \"Bivalvia\", \"rank\": \"Class\"}, {\"name\": \"Palaeoheterodonta\", \"rank\": \"Subclass\"}, {\"name\": \"Unionoida\", \"rank\": \"Order\"}, {\"name\": \"Unionoidea\", \"rank\": \"Superfamily\"}, {\"name\": \"Unionidae\", \"rank\": \"Family\"}, {\"name\": \"Unioninae\", \"rank\": \"Subfamily\"}, {\"name\": \"Alasmidontini\", \"rank\": \"Tribe\"}, {\"name\": \"Anodontoides\", \"rank\": \"Genus\"}, {\"name\": \"Anodontoides radiatus\", \"rank\": \"Species\"}], \"nameWOInd\": \"Anodontoides radiatus\", \"parentTSN\": \"80147\", \"createDate\": \"1996-06-13 14:51:08\", \"updateDate\": \"2015-06-25 00:00:00\", \"MatchMethod\": \"Exact Match\", \"MatchString\": \"Anodontoides radiatus\", \"commonnames\": [{\"name\": \"rayed creekshell\", \"language\": \"English\"}], \"synonymTSNs\": [\"80149:$985671$985672$985673$985674$\"]}',\n",
       "      'matchmethod': 'Exact Match',\n",
       "      'natureserve': None,\n",
       "      'rank': 'Species',\n",
       "      'registration': '{\"source\": \"SGCN\", \"commonnames\": [{\"commonname\": \"Rayed Creekshell\"}], \"followTaxonomy\": true, \"scientificname\": \"Anodontoides radiatus\", \"registrationDate\": \"2017-07-05T13:43:59.408057\", \"taxonomicLookupProperty\": \"scientificname\"}',\n",
       "      'scientificname': 'Anodontoides radiatus',\n",
       "      'sgcn': '{\"swap2005\": true, \"taxonomicgroup\": \"Mollusks\"}',\n",
       "      'source': 'SGCN',\n",
       "      'taxonomicgroup': 'Mollusks',\n",
       "      'tess': '{\"DPS\": \"0\", \"TSN\": \"80149\", \"FAMILY\": \"Unionidae\", \"SPCODE\": \"F04P\", \"STATUS\": \"UR\", \"result\": true, \"COMNAME\": \"Rayed creekshell\", \"COUNTRY\": \"1\", \"INVNAME\": \"creekshell, Rayed\", \"SCINAME\": \"Anodontoides radiatus\", \"VIPCODE\": \"I01\", \"criteria\": \"Anodontoides radiatus\", \"ENTITY_ID\": \"10833\", \"queryType\": \"SCINAME\", \"dateCached\": \"2017-07-18T16:39:37.225618\", \"LEAD_AGENCY\": \"1\", \"LEAD_REGION\": \"4\", \"listingStatus\": [{\"STATUS\": \"Under Review in the Candidate or Petition Process\", \"POP_DESC\": \"Wherever found\", \"POP_ABBREV\": \"Wherever found\"}], \"REFUGE_OCCURRENCE\": null}',\n",
       "      'worms': '{\"lsid\": \"urn:lsid:marinespecies.org:taxname:857255\", \"rank\": \"Species\", \"class\": \"Bivalvia\", \"genus\": \"Anodontoides\", \"order\": \"Unionida\", \"family\": \"Unionidae\", \"phylum\": \"Mollusca\", \"status\": \"accepted\", \"AphiaID\": 857255, \"kingdom\": \"Animalia\", \"isMarine\": 0, \"modified\": \"2015-10-16T13:46:27Z\", \"cacheDate\": \"2017-07-06T14:33:54.557191\", \"isExtinct\": null, \"isBrackish\": 0, \"match_type\": \"exact\", \"valid_name\": \"Anodontoides radiatus\", \"MatchMethod\": \"Exact Match\", \"MatchString\": \"Anodontoides radiatus\", \"isFreshwater\": 1, \"isTerrestrial\": 0, \"valid_AphiaID\": 857255, \"scientificname\": \"Anodontoides radiatus\", \"unacceptreason\": null}'},\n",
       "     'type': 'Feature'},\n",
       "    '_type': 'tir'}],\n",
       "  'max_score': 14.656125,\n",
       "  'total': 4},\n",
       " 'timed_out': False,\n",
       " 'took': 21}"
      ]
     },
     "metadata": {},
     "output_type": "display_data"
    }
   ],
   "source": [
    "queryForSpecies = 'https://gc2.datadistillery.org/api/v1/elasticsearch/search/bcb/tir/tir?q={\"query\": {\"bool\": {\"must\": {\"match\": {\"properties.source\": \"SGCN\"}},\"must\": {\"match\": {\"properties.scientificname\": \"Anodontoides ferussacianus\"}}}}}'\n",
    "rSpecies = requests.get(queryForSpecies).json()\n",
    "\n",
    "display (rSpecies)\n"
   ]
  },
  {
   "cell_type": "code",
   "execution_count": 11,
   "metadata": {
    "collapsed": false,
    "deletable": true,
    "editable": true
   },
   "outputs": [
    {
     "data": {
      "text/plain": [
       "'{\"source\": \"SGCN\", \"commonnames\": [{\"commonname\": \"Cumberland Papershell\"}], \"followTaxonomy\": true, \"scientificname\": \"Anodontoides denigratus\", \"registrationDate\": \"2017-07-05T13:43:54.980032\", \"taxonomicLookupProperty\": \"scientificname\"}'"
      ]
     },
     "metadata": {},
     "output_type": "display_data"
    },
    {
     "data": {
      "text/plain": [
       "'{\"swap2005\": true, \"dateCached\": \"2017-08-06T12:14:19.020956\", \"stateLists\": [{\"states\": \"Tennessee,Kentucky\", \"sgcn_year\": 2015}, {\"states\": \"Kentucky\", \"sgcn_year\": 2005}], \"taxonomicgroup\": \"Mollusks\"}'"
      ]
     },
     "metadata": {},
     "output_type": "display_data"
    },
    {
     "data": {
      "text/plain": [
       "'{\"source\": \"SGCN\", \"commonnames\": [{\"commonname\": \"Cylindrical Papershell\"}], \"followTaxonomy\": true, \"scientificname\": \"Anodontiodes ferussacianus\", \"registrationDate\": \"2017-07-05T13:43:52.673967\", \"taxonomicLookupProperty\": \"scientificname\"}'"
      ]
     },
     "metadata": {},
     "output_type": "display_data"
    },
    {
     "data": {
      "text/plain": [
       "'{\"swap2005\": true, \"dateCached\": \"2017-08-04T10:53:42.307185\", \"stateLists\": [{\"states\": \"Ohio\", \"sgcn_year\": 2015}], \"taxonomicgroup\": \"Mollusks\"}'"
      ]
     },
     "metadata": {},
     "output_type": "display_data"
    },
    {
     "data": {
      "text/plain": [
       "'{\"source\": \"SGCN\", \"commonnames\": [{\"commonname\": \"Cylinder\"}, {\"commonname\": \"Cylinder (Cylindrical Papershell)\"}, {\"commonname\": \"cylindrical papershell\"}, {\"commonname\": \"Cylindrical papershell\"}, {\"commonname\": \"Cylindrical Papershell\"}], \"followTaxonomy\": true, \"scientificname\": \"Anodontoides ferussacianus\", \"registrationDate\": \"2017-07-05T13:43:57.127727\", \"taxonomicLookupProperty\": \"scientificname\"}'"
      ]
     },
     "metadata": {},
     "output_type": "display_data"
    },
    {
     "data": {
      "text/plain": [
       "'{\"swap2005\": true, \"dateCached\": \"2017-08-04T10:08:08.741159\", \"stateLists\": [{\"states\": \"Vermont,Iowa,Wyoming,Pennsylvania,Missouri,Kansas,Colorado,West Virginia,Michigan\", \"sgcn_year\": 2005}, {\"states\": \"Pennsylvania,Colorado,Missouri,Iowa,Wyoming,Vermont,Kansas\", \"sgcn_year\": 2015}], \"taxonomicgroup\": \"Mollusks\"}'"
      ]
     },
     "metadata": {},
     "output_type": "display_data"
    }
   ],
   "source": [
    "q = \"SELECT * FROM tir.tir WHERE source='SGCN' AND scientificname='Anodontoides ferussacianus'\"\n",
    "r = requests.get(\"https://gc2.datadistillery.org/api/v1/sql/bcb?q=\"+q).json()\n",
    "\n",
    "for feature in r[\"features\"]:\n",
    "    display (feature[\"properties\"][\"registration\"])\n",
    "    display (feature[\"properties\"][\"sgcn\"])"
   ]
  },
  {
   "cell_type": "code",
   "execution_count": null,
   "metadata": {
    "collapsed": true,
    "deletable": true,
    "editable": true
   },
   "outputs": [],
   "source": []
  }
 ],
 "metadata": {
  "kernelspec": {
   "display_name": "Python 3",
   "language": "python",
   "name": "python3"
  },
  "language_info": {
   "codemirror_mode": {
    "name": "ipython",
    "version": 3
   },
   "file_extension": ".py",
   "mimetype": "text/x-python",
   "name": "python",
   "nbconvert_exporter": "python",
   "pygments_lexer": "ipython3",
   "version": "3.5.3"
  }
 },
 "nbformat": 4,
 "nbformat_minor": 0
}
