{
 "cells": [
  {
   "cell_type": "markdown",
   "metadata": {
    "deletable": true,
    "editable": true
   },
   "source": [
    "This process registeres unique species names from the SGCN source data into the Taxonomic Information Registry. The process is all based on pulling unique species names that are then examined via TIR processes to find matches with taxonomic authorities. Those decisions on taxonomic matching are used to create a nationally synthesized list of taxa that states have listed as Species of Greatest Conservation Need.\n",
    "\n",
    "Registration consists of a set of key/value pairs that are inserted into the registration property of the TIR table. An hstore column in PostgreSQL of key/value pairs is used in order to accommodate different registration vectors having varying attributes. Every registration has the following:\n",
    "* source - Logical name specifying the source of the registration (\"SGCN\" in this case)\n",
    "* registrationDate - Date/time stamp of the registration\n",
    "\n",
    "Most TIR registrations will have a \"scientificname\" property containing the name string used as a primary identifier. Some TIR registrations will have other identifiers that come from source material.\n",
    "\n",
    "SGCN registrations include a list of common names and taxonomic groups supplied by the state and pulled together with an array_agg function and a DISTINCT operator to create a list of unique values in a string. These values can then be reasoned on in TIR processing. The code to register names in the TIR from the SGCN table could operate at any time there are new names showing up in the SGCN, but we might miss some of the aggregated common names when new state data is processed. To deal with this, we could set up a process to periodically check the SGCN records for new instances of a given name and reaggregate common names and taxonomic groups."
   ]
  },
  {
   "cell_type": "code",
   "execution_count": 1,
   "metadata": {
    "collapsed": false,
    "deletable": true,
    "editable": true
   },
   "outputs": [],
   "source": [
    "import requests\n",
    "import json\n",
    "from datetime import datetime\n",
    "from IPython.display import display\n",
    "from bis import tir\n",
    "from bis import bis\n",
    "from bis2 import gc2"
   ]
  },
  {
   "cell_type": "code",
   "execution_count": 2,
   "metadata": {
    "collapsed": false,
    "deletable": true,
    "editable": true,
    "scrolled": true
   },
   "outputs": [],
   "source": [
    "# Set up the actions/targets for this particular instance\n",
    "thisRun = {}\n",
    "thisRun[\"instance\"] = \"DataDistillery\"\n",
    "thisRun[\"db\"] = \"BCB\"\n",
    "thisRun[\"baseURL\"] = gc2.sqlAPI(thisRun[\"instance\"],thisRun[\"db\"])\n",
    "thisRun[\"commitToDB\"] = False\n",
    "thisRun[\"totalRecordsToProcess\"] = 1\n",
    "thisRun[\"totalRecordsProcessed\"] = 0\n",
    "\n",
    "numberWithoutTIRData = 1\n",
    "\n",
    "while numberWithoutTIRData == 1 and thisRun[\"totalRecordsProcessed\"] < thisRun[\"totalRecordsToProcess\"]:\n",
    "\n",
    "    q_recordToSearch = \"SELECT scientificname_submitted scientificname \\\n",
    "        FROM sgcn.sgcn \\\n",
    "        WHERE scientificname_submitted NOT IN \\\n",
    "        (SELECT registration->>'scientificname' AS scientificname FROM tir.tir WHERE registration->>'source' = 'SGCN') \\\n",
    "        GROUP BY scientificname_submitted \\\n",
    "        LIMIT 1\"\n",
    "    recordToSearch = requests.get(thisRun[\"baseURL\"]+\"&q=\"+q_recordToSearch).json()\n",
    "    \n",
    "    numberWithoutTIRData = len(recordToSearch[\"features\"])\n",
    "    \n",
    "    if numberWithoutTIRData == 1:\n",
    "        thisRegistration = {}\n",
    "        thisRegistration[\"source\"] = \"SGCN\"\n",
    "        thisRegistration[\"registrationDate\"] = datetime.utcnow().isoformat()\n",
    "        thisRegistration[\"taxonomicLookupProperty\"] = \"scientificname\"\n",
    "        thisRegistration[\"followTaxonomy\"] = True\n",
    "\n",
    "        tirRecord = recordToSearch[\"features\"][0]\n",
    "        thisRegistration[\"scientificname\"] = tirRecord['properties']['scientificname'].replace(\"\\'\",\"''\")\n",
    "        tirRecord = recordToSearch[\"features\"][0]\n",
    "    \n",
    "        display (thisRegistration)\n",
    "        if thisRun[\"commitToDB\"]:\n",
    "            print (tir.tirRegistration(gc2.sqlAPI(\"DataDistillery\",\"BCB\"),json.dumps(thisRegistration)))\n",
    "        thisRun[\"totalRecordsProcessed\"] = thisRun[\"totalRecordsProcessed\"] + 1\n"
   ]
  },
  {
   "cell_type": "markdown",
   "metadata": {
    "collapsed": true,
    "deletable": true,
    "editable": true
   },
   "source": [
    "### Final Check\n",
    "\n",
    "Check that the total number of SGCN registrations in the TIR match the total unique number of names in the SGCN table."
   ]
  },
  {
   "cell_type": "code",
   "execution_count": 3,
   "metadata": {
    "collapsed": false,
    "deletable": true,
    "editable": true
   },
   "outputs": [
    {
     "name": "stdout",
     "output_type": "stream",
     "text": [
      "Total number distinct SGCN scientific names: 18202\n",
      "Total number SGCN scientific names in TIR: 18202\n"
     ]
    }
   ],
   "source": [
    "q_uniqueSGCNNames = \"SELECT COUNT(*) AS num FROM (SELECT DISTINCT scientificname_submitted FROM sgcn.sgcn) AS temp\"\n",
    "r_uniqueSGCNNames = requests.get(gc2.sqlAPI(\"DataDistillery\",\"BCB\")+\"&q=\"+q_uniqueSGCNNames).json()\n",
    "print (\"Total number distinct SGCN scientific names: \"+str(r_uniqueSGCNNames[\"features\"][0][\"properties\"][\"num\"]))\n",
    "\n",
    "q_tirRegisteredSGCNNames = \"SELECT COUNT(*) AS num FROM tir.tir WHERE registration->>'source' = 'SGCN'\"\n",
    "r_tirRegisteredSGCNNames = requests.get(gc2.sqlAPI(\"DataDistillery\",\"BCB\")+\"&q=\"+q_tirRegisteredSGCNNames).json()\n",
    "print (\"Total number SGCN scientific names in TIR: \"+str(r_tirRegisteredSGCNNames[\"features\"][0][\"properties\"][\"num\"]))\n"
   ]
  },
  {
   "cell_type": "code",
   "execution_count": null,
   "metadata": {
    "collapsed": true,
    "deletable": true,
    "editable": true
   },
   "outputs": [],
   "source": []
  }
 ],
 "metadata": {
  "kernelspec": {
   "display_name": "Python 3",
   "language": "python",
   "name": "python3"
  },
  "language_info": {
   "codemirror_mode": {
    "name": "ipython",
    "version": 3
   },
   "file_extension": ".py",
   "mimetype": "text/x-python",
   "name": "python",
   "nbconvert_exporter": "python",
   "pygments_lexer": "ipython3",
   "version": "3.5.3"
  }
 },
 "nbformat": 4,
 "nbformat_minor": 0
}
