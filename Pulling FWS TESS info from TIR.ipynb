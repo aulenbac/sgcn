{
 "cells": [
  {
   "cell_type": "markdown",
   "metadata": {
    "deletable": true,
    "editable": true
   },
   "source": [
    "We periodically cache information about taxa of interest from the USFWS Threatened and Endangered Species System (TESS) in the Taxonomic Information Registry. This information is displayed in places like the State Wildlife Action Plan (SWAP) online app and the National Biogeographic Map.\n",
    "\n",
    "TESS data are stored as JSON \"documents\" in a jsonb column of the \"tir\" data store in the experimental GC2 platform we are working with. This notebook shows a couple of methods for retrieving TESS information via the GC2 API for use in web applications.\n",
    "\n",
    "There is a TESS record for every taxon that is registered in the TIR. When no information from TESS was available with the query (based on ITIS TSN), there will be a result=>none key/value and a cacheDate, incidating the date/time the query was run.\n",
    "\n",
    "The following queries, based on the SQL API, are some options for working with the json structures. The data have also been piped to ElasticSearch in the GC2 instance, but they will come back as strings that need to be parsed. Note that there should only be a single result coming back for any given TSN or any originally submitted scientific name from the SGCN. However, there is not an absolute requirement that only a single record exist in the database for any of these key identifying features. You might harden your code by checking to make sure that there is only a single record and dealing with any duplicates."
   ]
  },
  {
   "cell_type": "code",
   "execution_count": 9,
   "metadata": {
    "collapsed": true,
    "deletable": true,
    "editable": true
   },
   "outputs": [],
   "source": [
    "import requests,json\n",
    "from IPython.display import display"
   ]
  },
  {
   "cell_type": "code",
   "execution_count": 6,
   "metadata": {
    "collapsed": false,
    "deletable": true,
    "editable": true
   },
   "outputs": [
    {
     "data": {
      "text/plain": [
       "'{\"DPS\": \"0\", \"TSN\": \"201922\", \"FAMILY\": \"Cyprinidae\", \"SPCODE\": \"E00R\", \"STATUS\": \"E\", \"result\": true, \"COMNAME\": \"Pahranagat roundtail chub\", \"COUNTRY\": \"1\", \"INVNAME\": \"Chub, Pahranagat roundtail\", \"SCINAME\": \"Gila robusta jordani\", \"VIPCODE\": \"V01\", \"criteria\": \"Gila robusta jordani\", \"ENTITY_ID\": \"226\", \"queryType\": \"SCINAME\", \"dateCached\": \"2017-07-19T19:49:53.748069\", \"LEAD_AGENCY\": \"1\", \"LEAD_REGION\": \"8\", \"listingStatus\": [{\"STATUS\": \"Endangered\", \"POP_DESC\": \"Wherever found\", \"POP_ABBREV\": \"Wherever found\", \"LISTING_DATE\": \"1970-10-13\"}], \"REFUGE_OCCURRENCE\": \"Pahranagat National Wildlife Refuge\"}'"
      ]
     },
     "metadata": {},
     "output_type": "display_data"
    }
   ],
   "source": [
    "# Query based on ITIS tsn\n",
    "tsn = 201922\n",
    "\n",
    "q = \"SELECT tess FROM tir.tir \\\n",
    "    WHERE tess->>'TSN' = '\"+str(tsn)+\"'\"\n",
    "\n",
    "r = requests.get(\"https://gc2.datadistillery.org/api/v1/sql/bcb?q=\"+q).json()\n",
    "\n",
    "display (r[\"features\"][0][\"properties\"][\"tess\"])\n"
   ]
  },
  {
   "cell_type": "markdown",
   "metadata": {},
   "source": [
    "The data that we've cached in the TIR from TESS and other sources is going into JSONB structures now that are returned by the GC2 API as strings (from either SQL or ElasticSearch). Those might need to be converted to an actual data structure so that they can be worked with more handily. For instance, in Python, we'd use a json.loads to load the string up as a dictionary for processing."
   ]
  },
  {
   "cell_type": "code",
   "execution_count": 10,
   "metadata": {
    "collapsed": false
   },
   "outputs": [
    {
     "name": "stdout",
     "output_type": "stream",
     "text": [
      "<class 'dict'>\n"
     ]
    },
    {
     "data": {
      "text/plain": [
       "{'COMNAME': 'Popolo',\n",
       " 'COUNTRY': '1',\n",
       " 'DPS': '0',\n",
       " 'ENTITY_ID': '6870',\n",
       " 'FAMILY': 'Solanaceae',\n",
       " 'INVNAME': 'Popolo',\n",
       " 'LEAD_AGENCY': '1',\n",
       " 'LEAD_REGION': '1',\n",
       " 'REFUGE_OCCURRENCE': 'Papahanaumokuakea Marine National Monument, Hawaiian Islands National Wildlife Refuge',\n",
       " 'SCINAME': 'Solanum nelsonii',\n",
       " 'SPCODE': 'Q21R',\n",
       " 'STATUS': 'E',\n",
       " 'TSN': '30483',\n",
       " 'VIPCODE': 'P01',\n",
       " 'criteria': '30483',\n",
       " 'dateCached': '2017-07-07T10:44:41.421099',\n",
       " 'listingStatus': [{'LISTING_DATE': '2016-10-31',\n",
       "   'POP_ABBREV': 'Wherever found',\n",
       "   'POP_DESC': 'Wherever found',\n",
       "   'STATUS': 'Endangered'}],\n",
       " 'queryType': 'TSN',\n",
       " 'result': True}"
      ]
     },
     "metadata": {},
     "output_type": "display_data"
    }
   ],
   "source": [
    "tessDict = json.loads(r[\"features\"][0][\"properties\"][\"tess\"])\n",
    "\n",
    "print (type(tessDict))\n",
    "\n",
    "display (tessDict)"
   ]
  },
  {
   "cell_type": "code",
   "execution_count": 8,
   "metadata": {
    "collapsed": false,
    "deletable": true,
    "editable": true
   },
   "outputs": [
    {
     "data": {
      "text/plain": [
       "'{\"DPS\": \"0\", \"TSN\": \"30483\", \"FAMILY\": \"Solanaceae\", \"SPCODE\": \"Q21R\", \"STATUS\": \"E\", \"result\": true, \"COMNAME\": \"Popolo\", \"COUNTRY\": \"1\", \"INVNAME\": \"Popolo\", \"SCINAME\": \"Solanum nelsonii\", \"VIPCODE\": \"P01\", \"criteria\": \"30483\", \"ENTITY_ID\": \"6870\", \"queryType\": \"TSN\", \"dateCached\": \"2017-07-07T10:44:41.421099\", \"LEAD_AGENCY\": \"1\", \"LEAD_REGION\": \"1\", \"listingStatus\": [{\"STATUS\": \"Endangered\", \"POP_DESC\": \"Wherever found\", \"POP_ABBREV\": \"Wherever found\", \"LISTING_DATE\": \"2016-10-31\"}], \"REFUGE_OCCURRENCE\": \"Papahanaumokuakea Marine National Monument, Hawaiian Islands National Wildlife Refuge\"}'"
      ]
     },
     "metadata": {},
     "output_type": "display_data"
    }
   ],
   "source": [
    "# Query based on a submitted SGCN scientific name\n",
    "scientificname = \"Solanum nelsonii\"\n",
    "\n",
    "q = \"SELECT tess FROM tir.tir \\\n",
    "    WHERE registration->>'scientificname' = '\"+scientificname+\"'\"\n",
    "\n",
    "r = requests.get(\"https://gc2.datadistillery.org/api/v1/sql/bcb?q=\"+q).json()\n",
    "\n",
    "display (r[\"features\"][0][\"properties\"][\"tess\"])"
   ]
  },
  {
   "cell_type": "markdown",
   "metadata": {},
   "source": [
    "You can also pull TESS and other buckets of information as JSON from the ElasticSearch index on tir. The following block runs a query on the tess property in the tir ES index for the term \"endangered\" (dangerously nonspecific), returns some results, and then loops through those to display listing status for the returned records out of the tess cache. Note that you should probably always show the date the information was cached from TESS so that users know the currency on the information they are viewing in our systems. This is a Python-specific way to work this information source, but you should be able to use similar methods in Javascript or whatever language."
   ]
  },
  {
   "cell_type": "code",
   "execution_count": 20,
   "metadata": {
    "collapsed": false,
    "deletable": true,
    "editable": true
   },
   "outputs": [
    {
     "name": "stdout",
     "output_type": "stream",
     "text": [
      "Lepidochelys olivacea\n",
      "Date Cached from TESS:  2017-07-07T14:02:02.580433\n",
      "Endangered 1978-07-28 Breeding colony populations on Pacific coast of Mexico\n",
      "Threatened 1978-07-28 Wherever found, except when listed as endangered under 50 CFR 224.101\n",
      "--------\n",
      "Acipenser oxyrinchus oxyrinchus\n",
      "Date Cached from TESS:  2017-07-19T14:17:30.621301\n",
      "Endangered 2012-02-06 New York Bight DPS - See 50 CFR 224.101\n",
      "Threatened 2012-02-06 Gulf of Maine DPS - See 50 CFR 223.102\n",
      "Endangered 2012-02-06 South Atlantic DPS - See 50 CFR 224.101\n",
      "Endangered 2012-02-06 Carolina DPS - See 50 CFR 224.101\n",
      "Endangered 2012-02-06 Chesapeake Bay DPS - See 50 CFR 224.101\n",
      "--------\n",
      "Lepidochelys olivacea\n",
      "Date Cached from TESS:  2017-07-26T16:10:48.109678\n",
      "Endangered 1978-07-28 Breeding colony populations on Pacific coast of Mexico\n",
      "Threatened 1978-07-28 Wherever found, except when listed as endangered under 50 CFR 224.101\n",
      "--------\n",
      "Rana muscosa\n",
      "Date Cached from TESS:  2017-07-19T13:20:01.745286\n",
      "Endangered 2014-06-30 U.S.A., northern California\n",
      "Endangered 2002-07-02 U.S.A., southern California\n",
      "--------\n",
      "Rana muscosa\n",
      "Date Cached from TESS:  2017-07-26T16:07:55.060565\n",
      "Endangered 2014-06-30 U.S.A., northern California\n",
      "Endangered 2002-07-02 U.S.A., southern California\n",
      "--------\n",
      "Sphyrna lewini\n",
      "Date Cached from TESS:  2017-07-09T16:49:54.732256\n",
      "Endangered 2014-09-02 Eastern Atlantic DPS\n",
      "Threatened 2014-09-02 Indo-West Pacific DPS\n",
      "Endangered 2014-09-02 Eastern Pacific DPS\n",
      "Threatened 2014-09-02 Central and Southwest Atlantic DPS\n",
      "--------\n",
      "Megaptera novaeangliae\n",
      "Date Cached from TESS:  2017-07-19T14:34:59.440213\n",
      "Endangered 1970-06-02 Central America DPS\n",
      "Recovery 1970-06-02 Hawaii DPS\n",
      "Recovery 1970-06-02 East Australia DPS\n",
      "Recovery 1970-06-02 Southeastern Pacific DPS\n",
      "Threatened 1970-06-02 Mexico DPS\n",
      "Recovery 1970-06-02 Southeast Africa/Madagascar DPS\n",
      "Recovery 1970-06-02 West Australia DPS\n",
      "Recovery 1970-06-02 Gabon/Southwest Africa DPS\n",
      "Recovery 1970-06-02 Oceania DPS\n",
      "Endangered 1970-06-02 Western North Pacific\n",
      "Recovery 1970-06-02 West Indies DPS\n",
      "Recovery 1970-06-02 Brazil DPS\n",
      "Endangered 1970-06-02 Arabian Sea DPS\n",
      "Endangered 1970-06-02 Cape Verde Island/Northwest Africa\n",
      "Resolved Taxon 1970-06-02 Wherever found\n",
      "--------\n",
      "Megaptera novaeangliae\n",
      "Date Cached from TESS:  2017-07-07T14:02:12.949002\n",
      "Endangered 1970-06-02 Central America DPS\n",
      "Recovery 1970-06-02 Hawaii DPS\n",
      "Recovery 1970-06-02 East Australia DPS\n",
      "Recovery 1970-06-02 Southeastern Pacific DPS\n",
      "Threatened 1970-06-02 Mexico DPS\n",
      "Recovery 1970-06-02 Southeast Africa/Madagascar DPS\n",
      "Recovery 1970-06-02 West Australia DPS\n",
      "Recovery 1970-06-02 Gabon/Southwest Africa DPS\n",
      "Recovery 1970-06-02 Oceania DPS\n",
      "Endangered 1970-06-02 Western North Pacific\n",
      "Recovery 1970-06-02 West Indies DPS\n",
      "Recovery 1970-06-02 Brazil DPS\n",
      "Endangered 1970-06-02 Arabian Sea DPS\n",
      "Endangered 1970-06-02 Cape Verde Island/Northwest Africa\n",
      "Resolved Taxon 1970-06-02 Wherever found\n",
      "--------\n",
      "Megaptera novaeangliae\n",
      "Date Cached from TESS:  2017-07-09T16:46:11.513210\n",
      "Endangered 1970-06-02 Central America DPS\n",
      "Recovery 1970-06-02 Hawaii DPS\n",
      "Recovery 1970-06-02 East Australia DPS\n",
      "Recovery 1970-06-02 Southeastern Pacific DPS\n",
      "Threatened 1970-06-02 Mexico DPS\n",
      "Recovery 1970-06-02 Southeast Africa/Madagascar DPS\n",
      "Recovery 1970-06-02 West Australia DPS\n",
      "Recovery 1970-06-02 Gabon/Southwest Africa DPS\n",
      "Recovery 1970-06-02 Oceania DPS\n",
      "Endangered 1970-06-02 Western North Pacific\n",
      "Recovery 1970-06-02 West Indies DPS\n",
      "Recovery 1970-06-02 Brazil DPS\n",
      "Endangered 1970-06-02 Arabian Sea DPS\n",
      "Endangered 1970-06-02 Cape Verde Island/Northwest Africa\n",
      "Resolved Taxon 1970-06-02 Wherever found\n",
      "--------\n",
      "Phyllostegia mollis\n",
      "Date Cached from TESS:  2017-07-07T11:15:26.803031\n",
      "Endangered 1991-10-29 Wherever found\n",
      "--------\n",
      "Cyrtandra subumbellata\n",
      "Date Cached from TESS:  2017-07-07T16:01:29.249596\n",
      "Endangered 1996-10-10 Wherever found\n",
      "--------\n",
      "Trematolobelia singularis\n",
      "Date Cached from TESS:  2017-07-07T14:14:22.449440\n",
      "Endangered 1996-10-10 Wherever found\n",
      "--------\n",
      "Etheostoma phytophilum\n",
      "Date Cached from TESS:  2017-07-09T17:28:26.879536\n",
      "Endangered 2011-09-08 Wherever found\n",
      "--------\n",
      "Platydesma cornuta var. decurrens\n",
      "Date Cached from TESS:  2017-07-07T14:15:58.424322\n",
      "Endangered 2012-10-18 Wherever found\n",
      "--------\n",
      "Balaenoptera musculus\n",
      "Date Cached from TESS:  2017-07-07T13:34:41.703565\n",
      "Endangered 1970-06-02 Wherever found\n",
      "--------\n",
      "Phyllostegia hispida\n",
      "Date Cached from TESS:  2017-07-07T15:10:14.423759\n",
      "Endangered 2009-03-17 Wherever found\n",
      "--------\n",
      "Leptoxis plicata\n",
      "Date Cached from TESS:  2017-07-07T13:40:56.569505\n",
      "Endangered 1998-10-28 Wherever found\n",
      "--------\n",
      "Anaxyrus californicus\n",
      "Date Cached from TESS:  2017-07-26T15:56:28.294177\n",
      "Endangered 1994-12-16 Wherever found\n",
      "--------\n",
      "Eretmochelys imbricata\n",
      "Date Cached from TESS:  2017-07-26T15:54:11.556186\n",
      "Endangered 1970-06-02 Wherever found\n",
      "--------\n",
      "Cyrtandra hematos\n",
      "Date Cached from TESS:  2017-07-09T16:39:56.979116\n",
      "Endangered 2016-10-31 Wherever found\n",
      "--------\n",
      "Speyeria zerene behrensii\n",
      "Date Cached from TESS:  2017-07-19T19:57:57.036714\n",
      "Endangered 1997-12-05 Wherever found\n",
      "--------\n",
      "Platydesma rostrata\n",
      "Date Cached from TESS:  2017-07-07T10:25:04.845741\n",
      "Endangered 2010-05-13 Wherever found\n",
      "--------\n",
      "Doryopteris angelica\n",
      "Date Cached from TESS:  2017-07-07T10:43:18.454000\n",
      "Endangered 2010-05-13 Wherever found\n",
      "--------\n",
      "Platanthera holochila\n",
      "Date Cached from TESS:  2017-07-07T14:13:51.478996\n",
      "Endangered 1996-10-10 Wherever found\n",
      "--------\n",
      "Elliptio steinstansana\n",
      "Date Cached from TESS:  2017-07-07T22:26:14.281877\n",
      "Endangered 1985-06-27 Wherever found\n",
      "--------\n"
     ]
    }
   ],
   "source": [
    "esURL = \"https://gc2.datadistillery.org/api/v1/elasticsearch/search/bcb/tir/tir?size=25&q={%22query%22:%20{%22match%22:%20{%22properties.source%22:%20%22SGCN%22}},%22query%22:%20{%22match%22:%20{%22properties.tess%22:%20%22Endangered%22}}}\"\n",
    "\n",
    "esData = requests.get(esURL).json()\n",
    "\n",
    "for hit in esData[\"hits\"][\"hits\"]:\n",
    "    print (hit[\"_source\"][\"properties\"][\"scientificname\"])\n",
    "    _tessData =  json.loads(hit[\"_source\"][\"properties\"][\"tess\"])\n",
    "    print (\"Date Cached from TESS: \", _tessData[\"dateCached\"])\n",
    "    for listingStatus in _tessData[\"listingStatus\"]:\n",
    "        print (listingStatus[\"STATUS\"], listingStatus[\"LISTING_DATE\"], listingStatus[\"POP_DESC\"])\n",
    "    print (\"--------\")\n",
    "    \n",
    "    "
   ]
  },
  {
   "cell_type": "code",
   "execution_count": null,
   "metadata": {
    "collapsed": true
   },
   "outputs": [],
   "source": []
  }
 ],
 "metadata": {
  "kernelspec": {
   "display_name": "Python 3",
   "language": "python",
   "name": "python3"
  },
  "language_info": {
   "codemirror_mode": {
    "name": "ipython",
    "version": 3
   },
   "file_extension": ".py",
   "mimetype": "text/x-python",
   "name": "python",
   "nbconvert_exporter": "python",
   "pygments_lexer": "ipython3",
   "version": "3.5.3"
  }
 },
 "nbformat": 4,
 "nbformat_minor": 0
}
