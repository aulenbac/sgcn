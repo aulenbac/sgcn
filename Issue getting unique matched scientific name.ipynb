{
 "cells": [
  {
   "cell_type": "code",
   "execution_count": 6,
   "metadata": {
    "collapsed": true
   },
   "outputs": [],
   "source": [
    "import requests\n",
    "from IPython.display import display\n",
    "import json"
   ]
  },
  {
   "cell_type": "code",
   "execution_count": 9,
   "metadata": {
    "collapsed": false
   },
   "outputs": [
    {
     "name": "stdout",
     "output_type": "stream",
     "text": [
      "Anodontoides ferussacianus\n",
      "cylindrical papershell\n",
      "http://services.itis.gov/?q=tsn:80148\n"
     ]
    },
    {
     "data": {
      "text/plain": [
       "{'commonnames': [{'commonname': 'Cumberland Papershell'}],\n",
       " 'followTaxonomy': True,\n",
       " 'registrationDate': '2017-07-05T13:43:54.980032',\n",
       " 'scientificname': 'Anodontoides denigratus',\n",
       " 'source': 'SGCN',\n",
       " 'taxonomicLookupProperty': 'scientificname'}"
      ]
     },
     "metadata": {},
     "output_type": "display_data"
    },
    {
     "data": {
      "text/plain": [
       "{'dateCached': '2017-08-06T12:14:19.020956',\n",
       " 'stateLists': [{'sgcn_year': 2015, 'states': 'Tennessee,Kentucky'},\n",
       "  {'sgcn_year': 2005, 'states': 'Kentucky'}],\n",
       " 'swap2005': True,\n",
       " 'taxonomicgroup': 'Mollusks'}"
      ]
     },
     "metadata": {},
     "output_type": "display_data"
    },
    {
     "name": "stdout",
     "output_type": "stream",
     "text": [
      "----------------\n",
      "Anodontoides ferussacianus\n",
      "cylindrical papershell\n",
      "http://services.itis.gov/?q=tsn:80148\n"
     ]
    },
    {
     "data": {
      "text/plain": [
       "{'commonnames': [{'commonname': 'Cylindrical Papershell'}],\n",
       " 'followTaxonomy': True,\n",
       " 'registrationDate': '2017-07-05T13:43:52.673967',\n",
       " 'scientificname': 'Anodontiodes ferussacianus',\n",
       " 'source': 'SGCN',\n",
       " 'taxonomicLookupProperty': 'scientificname'}"
      ]
     },
     "metadata": {},
     "output_type": "display_data"
    },
    {
     "data": {
      "text/plain": [
       "{'dateCached': '2017-08-04T10:53:42.307185',\n",
       " 'stateLists': [{'sgcn_year': 2015, 'states': 'Ohio'}],\n",
       " 'swap2005': True,\n",
       " 'taxonomicgroup': 'Mollusks'}"
      ]
     },
     "metadata": {},
     "output_type": "display_data"
    },
    {
     "name": "stdout",
     "output_type": "stream",
     "text": [
      "----------------\n",
      "Anodontoides ferussacianus\n",
      "cylindrical papershell\n",
      "http://services.itis.gov/?q=tsn:80148\n"
     ]
    },
    {
     "data": {
      "text/plain": [
       "{'commonnames': [{'commonname': 'Cylinder'},\n",
       "  {'commonname': 'Cylinder (Cylindrical Papershell)'},\n",
       "  {'commonname': 'cylindrical papershell'},\n",
       "  {'commonname': 'Cylindrical papershell'},\n",
       "  {'commonname': 'Cylindrical Papershell'}],\n",
       " 'followTaxonomy': True,\n",
       " 'registrationDate': '2017-07-05T13:43:57.127727',\n",
       " 'scientificname': 'Anodontoides ferussacianus',\n",
       " 'source': 'SGCN',\n",
       " 'taxonomicLookupProperty': 'scientificname'}"
      ]
     },
     "metadata": {},
     "output_type": "display_data"
    },
    {
     "data": {
      "text/plain": [
       "{'dateCached': '2017-08-04T10:08:08.741159',\n",
       " 'stateLists': [{'sgcn_year': 2005,\n",
       "   'states': 'Vermont,Iowa,Wyoming,Pennsylvania,Missouri,Kansas,Colorado,West Virginia,Michigan'},\n",
       "  {'sgcn_year': 2015,\n",
       "   'states': 'Pennsylvania,Colorado,Missouri,Iowa,Wyoming,Vermont,Kansas'}],\n",
       " 'swap2005': True,\n",
       " 'taxonomicgroup': 'Mollusks'}"
      ]
     },
     "metadata": {},
     "output_type": "display_data"
    },
    {
     "name": "stdout",
     "output_type": "stream",
     "text": [
      "----------------\n"
     ]
    }
   ],
   "source": [
    "q = \"SELECT * FROM tir.tir WHERE source='SGCN' AND scientificname='Anodontoides ferussacianus'\"\n",
    "r = requests.get(\"https://gc2.datadistillery.org/api/v1/sql/bcb?q=\"+q).json()\n",
    "\n",
    "for feature in r[\"features\"]:\n",
    "    print (feature[\"properties\"][\"scientificname\"])\n",
    "    print (feature[\"properties\"][\"commonname\"])\n",
    "    print (feature[\"properties\"][\"authorityid\"])\n",
    "    display (json.loads(feature[\"properties\"][\"registration\"]))\n",
    "    display (json.loads(feature[\"properties\"][\"sgcn\"]))\n",
    "    print (\"----------------\")"
   ]
  },
  {
   "cell_type": "code",
   "execution_count": null,
   "metadata": {
    "collapsed": true
   },
   "outputs": [],
   "source": []
  }
 ],
 "metadata": {
  "kernelspec": {
   "display_name": "Python 3",
   "language": "python",
   "name": "python3"
  },
  "language_info": {
   "codemirror_mode": {
    "name": "ipython",
    "version": 3
   },
   "file_extension": ".py",
   "mimetype": "text/x-python",
   "name": "python",
   "nbconvert_exporter": "python",
   "pygments_lexer": "ipython3",
   "version": "3.5.3"
  }
 },
 "nbformat": 4,
 "nbformat_minor": 0
}
